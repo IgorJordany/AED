{
 "cells": [
  {
   "cell_type": "code",
   "execution_count": null,
   "id": "6ac5baa7",
   "metadata": {},
   "outputs": [],
   "source": [
    "import numpy as np\n",
    "import seaborn as sns\n",
    "import matplotlib.pyplot as plt\n",
    "import pandas as pd"
   ]
  },
  {
   "cell_type": "code",
   "execution_count": null,
   "id": "946d774c",
   "metadata": {},
   "outputs": [],
   "source": [
    "red_wine_df = pd.read_csv('winequality-red.csv', delimiter=';')"
   ]
  },
  {
   "cell_type": "code",
   "execution_count": null,
   "id": "7bf0d849",
   "metadata": {},
   "outputs": [],
   "source": [
    "red_wine_df.columns"
   ]
  },
  {
   "cell_type": "code",
   "execution_count": null,
   "id": "ad6c283e",
   "metadata": {},
   "outputs": [],
   "source": [
    "red_wine_df.info()"
   ]
  },
  {
   "cell_type": "code",
   "execution_count": null,
   "id": "5969603d",
   "metadata": {},
   "outputs": [],
   "source": []
  },
  {
   "cell_type": "code",
   "execution_count": null,
   "id": "af6aea1e",
   "metadata": {},
   "outputs": [],
   "source": [
    "red_wine_df.describe()"
   ]
  },
  {
   "cell_type": "markdown",
   "id": "8ccc8298-e5e8-4781-ad59-f1dcda4ac329",
   "metadata": {},
   "source": [
    "# Análise de Correlação"
   ]
  },
  {
   "cell_type": "code",
   "execution_count": null,
   "id": "4a0bf064",
   "metadata": {},
   "outputs": [],
   "source": [
    "red_wine_df.corr()"
   ]
  },
  {
   "cell_type": "code",
   "execution_count": null,
   "id": "3e6d61b7",
   "metadata": {},
   "outputs": [],
   "source": [
    "red_wine_df.corr(method='pearson')"
   ]
  },
  {
   "cell_type": "code",
   "execution_count": null,
   "id": "5525de41",
   "metadata": {},
   "outputs": [],
   "source": [
    "red_wine_df.corr(method='kendall')"
   ]
  },
  {
   "cell_type": "code",
   "execution_count": null,
   "id": "c74930d4",
   "metadata": {},
   "outputs": [],
   "source": [
    "red_wine_df.corr(method='spearman')"
   ]
  },
  {
   "cell_type": "code",
   "execution_count": null,
   "id": "d95b0d79-3019-49a2-a535-034b8203a26f",
   "metadata": {},
   "outputs": [],
   "source": []
  },
  {
   "cell_type": "code",
   "execution_count": null,
   "id": "1f5932f9",
   "metadata": {},
   "outputs": [],
   "source": [
    "sns.set(rc={'figure.figsize':(15,15)})\n",
    "ax = sns.heatmap(red_wine_df.corr(), annot=False,\n",
    "                 linewidths=1, fmt='.2f')"
   ]
  },
  {
   "cell_type": "code",
   "execution_count": null,
   "id": "449981bd",
   "metadata": {},
   "outputs": [],
   "source": [
    "sns.set(rc={'figure.figsize':(15,15)})\n",
    "ax = sns.heatmap(red_wine_df.corr(), annot=True,\n",
    "                 linewidths=1, fmt='.2f')"
   ]
  },
  {
   "cell_type": "code",
   "execution_count": null,
   "id": "f0c0d7c7",
   "metadata": {},
   "outputs": [],
   "source": [
    "sns.set(rc={'figure.figsize':(15,15)})\n",
    "ax = sns.heatmap(red_wine_df.corr(method='spearman'), annot=True, linewidths=1, fmt='.2f')"
   ]
  },
  {
   "cell_type": "markdown",
   "id": "bbc160bc-1317-441b-a311-7e77d1dfc6b9",
   "metadata": {},
   "source": [
    "# Gráfico de Dispersão"
   ]
  },
  {
   "cell_type": "code",
   "execution_count": null,
   "id": "32be960f",
   "metadata": {},
   "outputs": [],
   "source": [
    "sns.scatterplot(data=red_wine_df, x='fixed acidity', y='pH')"
   ]
  },
  {
   "cell_type": "code",
   "execution_count": null,
   "id": "d4ea21ff",
   "metadata": {},
   "outputs": [],
   "source": [
    "sns.scatterplot(data=red_wine_df, x='fixed acidity', y='quality')"
   ]
  },
  {
   "cell_type": "code",
   "execution_count": null,
   "id": "0d7d4835",
   "metadata": {},
   "outputs": [],
   "source": [
    "sns.scatterplot(data=red_wine_df, x='fixed acidity', y='fixed acidity')"
   ]
  },
  {
   "cell_type": "code",
   "execution_count": null,
   "id": "04cb4458-f3a8-4629-9beb-dcba96f471d5",
   "metadata": {},
   "outputs": [],
   "source": []
  },
  {
   "cell_type": "code",
   "execution_count": null,
   "id": "83c90b7e",
   "metadata": {},
   "outputs": [],
   "source": [
    "sns.regplot(data=red_wine_df, x='fixed acidity', y='pH', ci = None)"
   ]
  },
  {
   "cell_type": "code",
   "execution_count": null,
   "id": "b2a8efcf",
   "metadata": {},
   "outputs": [],
   "source": [
    "sns.regplot(data=red_wine_df, x='fixed acidity', y='quality', ci = None)"
   ]
  },
  {
   "cell_type": "code",
   "execution_count": null,
   "id": "9634331c",
   "metadata": {},
   "outputs": [],
   "source": [
    "sns.regplot(data=red_wine_df, x='fixed acidity', y='fixed acidity')"
   ]
  },
  {
   "cell_type": "code",
   "execution_count": null,
   "id": "ce77eb58-ef63-4355-b54f-205823620478",
   "metadata": {},
   "outputs": [],
   "source": []
  },
  {
   "cell_type": "markdown",
   "id": "0132e436-af83-4310-83f0-206207b791ae",
   "metadata": {},
   "source": [
    "# Pair plot"
   ]
  },
  {
   "cell_type": "code",
   "execution_count": null,
   "id": "835f3368",
   "metadata": {},
   "outputs": [],
   "source": [
    "sns.set(rc={'figure.figsize':(15,15)})\n",
    "sns.pairplot(red_wine_df)"
   ]
  },
  {
   "cell_type": "code",
   "execution_count": null,
   "id": "aa29d6c6",
   "metadata": {},
   "outputs": [],
   "source": [
    "sns.set(rc={'figure.figsize':(15,15)})\n",
    "sns.pairplot(red_wine_df[['fixed acidity','pH','density']])"
   ]
  },
  {
   "cell_type": "markdown",
   "id": "610fa91b-439f-4fdc-9377-795062b80a1e",
   "metadata": {},
   "source": [
    "# Joint plot"
   ]
  },
  {
   "cell_type": "code",
   "execution_count": null,
   "id": "8cffa182",
   "metadata": {},
   "outputs": [],
   "source": [
    "sns.jointplot(x='alcohol', y='pH', data=red_wine_df, kind='reg', ci=None)"
   ]
  },
  {
   "cell_type": "code",
   "execution_count": null,
   "id": "8f8e3d82",
   "metadata": {},
   "outputs": [],
   "source": [
    "sns.jointplot(x='fixed acidity', y='pH', data=red_wine_df, kind='scatter')"
   ]
  },
  {
   "cell_type": "code",
   "execution_count": null,
   "id": "ef69cff2",
   "metadata": {},
   "outputs": [],
   "source": [
    "sns.jointplot(x='alcohol', y='density', data=red_wine_df, kind='reg', ci = None )"
   ]
  },
  {
   "cell_type": "code",
   "execution_count": null,
   "id": "1cf137a2-fd41-41c9-943c-ec46d48e9df3",
   "metadata": {},
   "outputs": [],
   "source": []
  },
  {
   "cell_type": "markdown",
   "id": "0810c342-5e46-4126-b91a-51367b6d5c39",
   "metadata": {},
   "source": [
    "# Box plot"
   ]
  },
  {
   "cell_type": "code",
   "execution_count": null,
   "id": "2a2b5079",
   "metadata": {},
   "outputs": [],
   "source": [
    "sns.set(rc={'figure.figsize':(15,15)})\n",
    "sns.boxplot(x='quality', y='alcohol', data=red_wine_df)"
   ]
  },
  {
   "cell_type": "code",
   "execution_count": null,
   "id": "21457bbe",
   "metadata": {},
   "outputs": [],
   "source": [
    "sns.boxplot(x='quality', y='alcohol', data=red_wine_df, showfliers=False)"
   ]
  },
  {
   "cell_type": "code",
   "execution_count": null,
   "id": "df3c8d29",
   "metadata": {},
   "outputs": [],
   "source": [
    "sns.boxplot(x='quality', y='sulphates', data=red_wine_df)"
   ]
  },
  {
   "cell_type": "code",
   "execution_count": null,
   "id": "cf3323e0",
   "metadata": {},
   "outputs": [],
   "source": [
    "sns.boxplot(x='quality', y='sulphates', data=red_wine_df, showfliers=False)"
   ]
  },
  {
   "cell_type": "code",
   "execution_count": null,
   "id": "8f830bd9",
   "metadata": {},
   "outputs": [],
   "source": [
    "sns.boxplot(x='quality', y='total sulfur dioxide', data=red_wine_df)"
   ]
  },
  {
   "cell_type": "code",
   "execution_count": null,
   "id": "46169734",
   "metadata": {},
   "outputs": [],
   "source": [
    "sns.boxplot(x='quality', y='free sulfur dioxide', data=red_wine_df)"
   ]
  },
  {
   "cell_type": "code",
   "execution_count": null,
   "id": "16c5886d",
   "metadata": {},
   "outputs": [],
   "source": [
    "sns.boxplot(x='quality', y='fixed acidity', data=red_wine_df)"
   ]
  },
  {
   "cell_type": "code",
   "execution_count": null,
   "id": "e96c08df",
   "metadata": {},
   "outputs": [],
   "source": [
    "sns.boxplot(x='quality', y='citric acid', data=red_wine_df)"
   ]
  },
  {
   "cell_type": "code",
   "execution_count": null,
   "id": "b55862b1",
   "metadata": {},
   "outputs": [],
   "source": [
    "sns.boxplot(x='quality', y='volatile acidity', data=red_wine_df)"
   ]
  },
  {
   "cell_type": "code",
   "execution_count": null,
   "id": "a25d11e5",
   "metadata": {},
   "outputs": [],
   "source": [
    "red_wine_df['total acidity'] = (red_wine_df['fixed acidity']+ red_wine_df['citric acid']+ red_wine_df['volatile acidity'])\n",
    "sns.boxplot(x='quality', y='total acidity', data=red_wine_df, showfliers=False)"
   ]
  },
  {
   "cell_type": "code",
   "execution_count": null,
   "id": "9ae69aa8",
   "metadata": {},
   "outputs": [],
   "source": []
  },
  {
   "cell_type": "markdown",
   "id": "11fadfc3",
   "metadata": {},
   "source": [
    "# Linha"
   ]
  },
  {
   "cell_type": "code",
   "execution_count": null,
   "id": "acdffd36",
   "metadata": {},
   "outputs": [],
   "source": [
    "sns.lineplot(data=red_wine_df, x='quality', y='citric acid', errorbar = None)"
   ]
  },
  {
   "cell_type": "code",
   "execution_count": null,
   "id": "b3384015",
   "metadata": {},
   "outputs": [],
   "source": [
    "sns.lineplot(data=red_wine_df, x='quality', y='citric acid', errorbar=None)"
   ]
  },
  {
   "cell_type": "code",
   "execution_count": null,
   "id": "dd4a247b",
   "metadata": {},
   "outputs": [],
   "source": [
    "sns.lineplot(data=red_wine_df, x='quality', y='citric acid', errorbar= 'sd')"
   ]
  },
  {
   "cell_type": "code",
   "execution_count": null,
   "id": "dc8551d1",
   "metadata": {},
   "outputs": [],
   "source": [
    "media = red_wine_df.groupby('quality').mean()"
   ]
  },
  {
   "cell_type": "code",
   "execution_count": null,
   "id": "1d6e2daf",
   "metadata": {},
   "outputs": [],
   "source": [
    "media"
   ]
  },
  {
   "cell_type": "code",
   "execution_count": null,
   "id": "8767b1ac",
   "metadata": {},
   "outputs": [],
   "source": [
    "desvio_padrao = red_wine_df.groupby('quality').std()"
   ]
  },
  {
   "cell_type": "code",
   "execution_count": null,
   "id": "8561672f",
   "metadata": {},
   "outputs": [],
   "source": [
    "desvio_padrao"
   ]
  },
  {
   "cell_type": "code",
   "execution_count": null,
   "id": "ae27a73f",
   "metadata": {},
   "outputs": [],
   "source": []
  },
  {
   "cell_type": "code",
   "execution_count": null,
   "id": "ff552af8",
   "metadata": {},
   "outputs": [],
   "source": []
  },
  {
   "cell_type": "markdown",
   "id": "f14ff865",
   "metadata": {},
   "source": [
    "# Multivaridada"
   ]
  },
  {
   "cell_type": "markdown",
   "id": "eaafd38c",
   "metadata": {},
   "source": [
    "# Gráfico de Dispersão"
   ]
  },
  {
   "cell_type": "code",
   "execution_count": null,
   "id": "851b19f4",
   "metadata": {},
   "outputs": [],
   "source": [
    "sns.scatterplot(data=red_wine_df, x='fixed acidity', y='pH', hue='quality', palette='viridis')"
   ]
  },
  {
   "cell_type": "code",
   "execution_count": null,
   "id": "0547fcd5",
   "metadata": {},
   "outputs": [],
   "source": []
  },
  {
   "cell_type": "code",
   "execution_count": null,
   "id": "6e147437",
   "metadata": {},
   "outputs": [],
   "source": [
    "sns.relplot(x=\"fixed acidity\", y=\"pH\", hue=\"quality\", data=red_wine_df, palette='viridis')"
   ]
  },
  {
   "cell_type": "code",
   "execution_count": null,
   "id": "65a7954a",
   "metadata": {},
   "outputs": [],
   "source": []
  },
  {
   "cell_type": "code",
   "execution_count": null,
   "id": "bd44906c",
   "metadata": {},
   "outputs": [],
   "source": [
    "Video_Games_df = pd.read_csv('Video_Games_Sales_as_at_22_Dec_2016.csv')"
   ]
  },
  {
   "cell_type": "code",
   "execution_count": null,
   "id": "fa775251",
   "metadata": {},
   "outputs": [],
   "source": [
    "Video_Games_df.info()"
   ]
  },
  {
   "cell_type": "code",
   "execution_count": null,
   "id": "9a755882",
   "metadata": {},
   "outputs": [],
   "source": [
    "sns.relplot( data=Video_Games_df, x=\"NA_Sales\", y=\"EU_Sales\", size=\"Genre\")"
   ]
  },
  {
   "cell_type": "code",
   "execution_count": null,
   "id": "10537096",
   "metadata": {},
   "outputs": [],
   "source": [
    "sns.relplot( data=Video_Games_df, x=\"NA_Sales\", y=\"EU_Sales\", size=\"Genre\", sizes=(15,200))"
   ]
  },
  {
   "cell_type": "code",
   "execution_count": null,
   "id": "97e84b8e",
   "metadata": {},
   "outputs": [],
   "source": [
    "ax = sns.relplot( data=Video_Games_df, x='Global_Sales', y='EU_Sales', hue='Genre', style='Platform', size='Year_of_Release')\n",
    "sns.move_legend(ax, \"upper left\", bbox_to_anchor=(1, 1), ncol=3)\n",
    "plt.show()"
   ]
  },
  {
   "cell_type": "code",
   "execution_count": null,
   "id": "88f6b414",
   "metadata": {},
   "outputs": [],
   "source": [
    "ax = sns.relplot( data=Video_Games_df, x='Global_Sales', y='EU_Sales', hue='Genre', style='Platform', size='Year_of_Release')\n",
    "sns.move_legend(ax, \"upper left\", bbox_to_anchor=(1, 1), ncol=4)\n",
    "plt.show()"
   ]
  },
  {
   "cell_type": "code",
   "execution_count": null,
   "id": "4a22ed0d",
   "metadata": {},
   "outputs": [],
   "source": [
    "ax = sns.relplot( data=Video_Games_df, x=\"Global_Sales\", y=\"EU_Sales\", hue=\"Platform\", style=\"Genre\")\n",
    "sns.move_legend(ax, \"upper left\", bbox_to_anchor=(1, 1), ncol=2)\n",
    "plt.show()"
   ]
  },
  {
   "cell_type": "code",
   "execution_count": null,
   "id": "f4533373",
   "metadata": {},
   "outputs": [],
   "source": [
    "sns.relplot( data=Video_Games_df, x='Global_Sales', y='EU_Sales', hue='Genre', style='Platform', col='Year_of_Release' )"
   ]
  },
  {
   "cell_type": "code",
   "execution_count": null,
   "id": "f6d4cf28",
   "metadata": {},
   "outputs": [],
   "source": [
    "g = sns.relplot(x=\"NA_Sales\", y=\"EU_Sales\", hue=\"Platform\",\n",
    "                col=\"Genre\", row=\"Rating\", data=Video_Games_df)"
   ]
  },
  {
   "cell_type": "code",
   "execution_count": null,
   "id": "6c1ee84a",
   "metadata": {},
   "outputs": [],
   "source": [
    "Video_Games_df.info()"
   ]
  },
  {
   "cell_type": "code",
   "execution_count": null,
   "id": "ed2588d3",
   "metadata": {},
   "outputs": [],
   "source": []
  },
  {
   "cell_type": "markdown",
   "id": "b620217b",
   "metadata": {},
   "source": [
    "# Pair plot"
   ]
  },
  {
   "cell_type": "code",
   "execution_count": null,
   "id": "b5497472",
   "metadata": {},
   "outputs": [],
   "source": [
    "sns.set(rc={'figure.figsize':(15,15)})\n",
    "sns.pairplot(red_wine_df, hue='quality', palette='viridis')"
   ]
  },
  {
   "cell_type": "code",
   "execution_count": null,
   "id": "4e356025",
   "metadata": {},
   "outputs": [],
   "source": []
  },
  {
   "cell_type": "code",
   "execution_count": null,
   "id": "9bb67c55",
   "metadata": {},
   "outputs": [],
   "source": [
    "g = sns.FacetGrid(red_wine_df, col='quality')\n",
    "g = g.map(sns.regplot, \"density\", \"alcohol\", ci = None)"
   ]
  },
  {
   "cell_type": "code",
   "execution_count": null,
   "id": "dbb8dd9e",
   "metadata": {},
   "outputs": [],
   "source": [
    "g = sns.FacetGrid(red_wine_df, col=\"quality\")\n",
    "g = g.map(sns.regplot, \"total acidity\", \"pH\", ci = None)"
   ]
  },
  {
   "cell_type": "code",
   "execution_count": null,
   "id": "c7695a4e",
   "metadata": {},
   "outputs": [],
   "source": [
    "g = sns.FacetGrid(red_wine_df, col=\"quality\")\n",
    "g = g.map(sns.regplot, \"free sulfur dioxide\", \"pH\", ci = None)"
   ]
  },
  {
   "cell_type": "code",
   "execution_count": null,
   "id": "5a5992ab",
   "metadata": {},
   "outputs": [],
   "source": []
  },
  {
   "cell_type": "markdown",
   "id": "47d86520-1cca-4c1d-b36a-ee410fb0bbf0",
   "metadata": {},
   "source": [
    "# Linha"
   ]
  },
  {
   "cell_type": "code",
   "execution_count": null,
   "id": "c0bff236-c044-4ca3-b743-70b44d76932a",
   "metadata": {},
   "outputs": [],
   "source": [
    "fig = plt.subplots(figsize=(20, 10))\n",
    "g = sns.lineplot(y='residual sugar', x='alcohol', data=red_wine_df, style='quality'\n",
    "                 ,errorbar=None \n",
    "                 , markersize=10).set(title='Alcohol vs Density vs Quality')\n",
    "sns.set_theme(font_scale=3)"
   ]
  },
  {
   "cell_type": "code",
   "execution_count": null,
   "id": "b95f3644",
   "metadata": {},
   "outputs": [],
   "source": []
  },
  {
   "cell_type": "code",
   "execution_count": null,
   "id": "56834dbe",
   "metadata": {},
   "outputs": [],
   "source": [
    "Video_Games_df = pd.read_csv('Video_Games_Sales_as_at_22_Dec_2016.csv', delimiter=',')"
   ]
  },
  {
   "cell_type": "code",
   "execution_count": null,
   "id": "28c2b944-e0b8-4f9c-ab4f-77aee3002932",
   "metadata": {},
   "outputs": [],
   "source": [
    "count_year_gen = pd.DataFrame({'count' : Video_Games_df.groupby( [ \"Genre\", \"Year_of_Release\"] ).size()}).reset_index()\n",
    "sns.set(rc={'figure.figsize':(20,8)})\n",
    "ax = sns.lineplot(x=\"Year_of_Release\", y=\"count\", hue=\"Genre\",data=count_year_gen)"
   ]
  },
  {
   "cell_type": "code",
   "execution_count": null,
   "id": "97a3ede3-9846-4f60-8e48-4d2a6f70d258",
   "metadata": {},
   "outputs": [],
   "source": []
  },
  {
   "cell_type": "markdown",
   "id": "0049591d-e675-4e01-a6c7-be5154ce40fc",
   "metadata": {},
   "source": [
    "# Countplot"
   ]
  },
  {
   "cell_type": "code",
   "execution_count": null,
   "id": "6f9d137b-91e1-4fea-935d-0f31ec79f4c2",
   "metadata": {},
   "outputs": [],
   "source": [
    "plt.figure(figsize=(15,15))\n",
    "sns.countplot(data=Video_Games_df, hue='Rating', x='Genre')\n",
    "plt.legend(title='Platform', loc='upper left', bbox_to_anchor=(1, 1))\n",
    "plt.show()"
   ]
  },
  {
   "cell_type": "code",
   "execution_count": null,
   "id": "00f73f57-9305-4fcf-a317-287e684d8738",
   "metadata": {},
   "outputs": [],
   "source": [
    "plt.figure(figsize=(15,15))\n",
    "sns.countplot(data=Video_Games_df, hue='Platform', x='Genre') \n",
    "plt.legend(title='Platform', loc='upper left', bbox_to_anchor=(1, 1))\n",
    "plt.show()"
   ]
  },
  {
   "cell_type": "code",
   "execution_count": null,
   "id": "e0f0aa68-fdc1-40c9-b04a-d49b2c36811f",
   "metadata": {},
   "outputs": [],
   "source": []
  },
  {
   "cell_type": "markdown",
   "id": "604edd74-7f03-4faa-b7b3-f267863f782d",
   "metadata": {},
   "source": [
    "# Catplot"
   ]
  },
  {
   "cell_type": "code",
   "execution_count": null,
   "id": "579b7480-b27c-4738-9964-1fc4b21e5e22",
   "metadata": {},
   "outputs": [],
   "source": [
    "sns.catplot(data=red_wine_df, y=\"alcohol\", x=\"quality\")"
   ]
  },
  {
   "cell_type": "code",
   "execution_count": null,
   "id": "16893e73-5306-4477-95f8-08e6d34e0e8a",
   "metadata": {},
   "outputs": [],
   "source": [
    "sns.catplot(data=red_wine_df, y=\"alcohol\", x=\"quality\", kind=\"box\")"
   ]
  },
  {
   "cell_type": "code",
   "execution_count": null,
   "id": "fba4244b-7417-4bfa-9d74-7bf29791c191",
   "metadata": {},
   "outputs": [],
   "source": [
    "g = sns.catplot(data=Video_Games_df, x = 'Global_Sales', y='Platform'\n",
    "                , col=\"Genre\")"
   ]
  },
  {
   "cell_type": "code",
   "execution_count": null,
   "id": "cd518097-ab28-4709-b671-e31224301fba",
   "metadata": {},
   "outputs": [],
   "source": [
    "g = sns.catplot(x=\"Genre\", hue=\"Rating\", data=Video_Games_df, kind=\"count\",height=10)"
   ]
  },
  {
   "cell_type": "code",
   "execution_count": null,
   "id": "b2585ccc-9f1c-4961-926c-262998fb2d45",
   "metadata": {},
   "outputs": [],
   "source": []
  },
  {
   "cell_type": "markdown",
   "id": "25958470-3a3c-4cd3-a723-e908f6ad859c",
   "metadata": {},
   "source": [
    "# Barplot"
   ]
  },
  {
   "cell_type": "code",
   "execution_count": null,
   "id": "1e409d95-24b9-4cc1-8d2b-357b57468017",
   "metadata": {},
   "outputs": [],
   "source": [
    "count_year_gen = pd.DataFrame({'count' : Video_Games_df.groupby( [ \"Genre\", \"Year_of_Release\"] ).size()}).reset_index()"
   ]
  },
  {
   "cell_type": "code",
   "execution_count": null,
   "id": "cc22a089-6f35-41bd-ae89-1ed575a69c30",
   "metadata": {},
   "outputs": [],
   "source": [
    "print(Video_Games_df.groupby( [ \"Genre\", \"Year_of_Release\"] ).size())"
   ]
  },
  {
   "cell_type": "code",
   "execution_count": null,
   "id": "db63759e-3d5b-4c17-9df0-13fa50fd031d",
   "metadata": {},
   "outputs": [],
   "source": [
    "genre_region_other = pd.DataFrame({'Sales' : Video_Games_df.groupby(\"Genre\")['Other_Sales'].sum()}).reset_index()\n",
    "sns.barplot(x='Genre',y='Sales', data=genre_region_other)"
   ]
  },
  {
   "cell_type": "code",
   "execution_count": null,
   "id": "e603f484-a04b-4386-9668-03ed4fb689ca",
   "metadata": {},
   "outputs": [],
   "source": [
    "genre_region_jp = pd.DataFrame({'Sales' : Video_Games_df.groupby(\"Genre\")['JP_Sales'].sum()}).reset_index()\n",
    "sns.barplot(x='Genre',y='Sales', data=genre_region_jp)"
   ]
  },
  {
   "cell_type": "code",
   "execution_count": null,
   "id": "a9cbd8a6-fefa-46aa-ad23-02dc969d055d",
   "metadata": {},
   "outputs": [],
   "source": []
  },
  {
   "cell_type": "markdown",
   "id": "972b7534-aed5-4d06-985a-fb715274b00d",
   "metadata": {},
   "source": [
    "# Facegrid"
   ]
  },
  {
   "cell_type": "code",
   "execution_count": null,
   "id": "7128d718-152d-4c02-b4d0-bdc9823f2e45",
   "metadata": {},
   "outputs": [],
   "source": [
    "g = sns.FacetGrid(red_wine_df, col='quality')\n",
    "g = g.map(sns.regplot, \"density\", \"alcohol\")\n",
    "sns.regplot"
   ]
  },
  {
   "cell_type": "code",
   "execution_count": null,
   "id": "ea63cf3a-ee79-444b-9bc9-433e10c150cd",
   "metadata": {},
   "outputs": [],
   "source": []
  },
  {
   "cell_type": "markdown",
   "id": "4409844b-358e-4ce0-a456-e940e55ba56e",
   "metadata": {},
   "source": [
    "# Bokeh"
   ]
  },
  {
   "cell_type": "code",
   "execution_count": null,
   "id": "4f5031ff-363e-4bf2-ae9f-994a591581d3",
   "metadata": {},
   "outputs": [],
   "source": [
    "from bokeh.palettes import Spectral11\n",
    "from bokeh.plotting import figure, output_file, show\n",
    "from bokeh.models import Legend, LegendItem\n",
    "p = figure(plot_width=800, plot_height=550)\n",
    "p.background_fill_color = \"beige\"\n",
    "\n",
    "p.title.text = 'Click on legend entries to hide the corresponding lines'\n",
    "import random\n",
    "legend_list = []\n",
    "for genre_id in count_year_gen['Genre'].unique():\n",
    "    color = random.choice(Spectral11)\n",
    "    df = pd.DataFrame(count_year_gen[count_year_gen['Genre']==genre_id])\n",
    "    p.line(df['Year_of_Release'], df['count'], line_width=2, alpha=0.8, color=color, legend=genre_id)\n",
    "\n",
    "p.legend.location = \"top_left\"\n",
    "p.legend.click_policy=\"hide\"\n",
    "\n",
    "show(p)"
   ]
  },
  {
   "cell_type": "code",
   "execution_count": null,
   "id": "7c6ae6d8-afd8-4074-91ae-16d0ebd5e0c5",
   "metadata": {},
   "outputs": [],
   "source": []
  },
  {
   "cell_type": "markdown",
   "id": "17aa9876",
   "metadata": {},
   "source": [
    "# Discretização"
   ]
  },
  {
   "cell_type": "code",
   "execution_count": null,
   "id": "09f5e62f-859f-4e1d-815d-ef2bf5e0f3c8",
   "metadata": {},
   "outputs": [],
   "source": [
    "red_wine_df['pH_cat'] = pd.cut(x=red_wine_df['pH'], bins=4)"
   ]
  },
  {
   "cell_type": "code",
   "execution_count": null,
   "id": "fbd821c0-82df-4156-a909-af5f2e416e93",
   "metadata": {},
   "outputs": [],
   "source": [
    "red_wine_df['pH_cat'].unique()"
   ]
  },
  {
   "cell_type": "code",
   "execution_count": null,
   "id": "e46cee27",
   "metadata": {},
   "outputs": [],
   "source": [
    "sns.scatterplot(data=red_wine_df, x='density', y='fixed acidity', hue='pH')"
   ]
  },
  {
   "cell_type": "code",
   "execution_count": null,
   "id": "a7f68f12-6854-46f1-b35c-c03ffffac077",
   "metadata": {},
   "outputs": [],
   "source": [
    "sns.scatterplot(data=red_wine_df, x='density', y='fixed acidity', hue='pH_cat')"
   ]
  },
  {
   "cell_type": "code",
   "execution_count": null,
   "id": "47fc3269-fb6c-4ae6-bce4-af9054fe2d4c",
   "metadata": {},
   "outputs": [],
   "source": []
  },
  {
   "cell_type": "code",
   "execution_count": null,
   "id": "e3906f47",
   "metadata": {},
   "outputs": [],
   "source": [
    "Video_Games_df = pd.read_csv('Video_Games_Sales_as_at_22_Dec_2016.csv', delimiter=',')"
   ]
  },
  {
   "cell_type": "code",
   "execution_count": null,
   "id": "22053254",
   "metadata": {},
   "outputs": [],
   "source": [
    "Video_Games_df = Video_Games_df.dropna().copy()"
   ]
  },
  {
   "cell_type": "code",
   "execution_count": null,
   "id": "52641924-c84f-4f3f-8db6-c8eac0f0ffea",
   "metadata": {},
   "outputs": [],
   "source": [
    "categorias = ['E','D','C','B','A'] \n",
    "Video_Games_df['Critic_Score_Cat']=pd.cut(x=Video_Games_df['Critic_Score']\n",
    "                                          #,bins = 5\n",
    "                                          ,bins=[0,20,40,60,80,100]\n",
    "                                          , labels=categorias)"
   ]
  },
  {
   "cell_type": "code",
   "execution_count": null,
   "id": "0b4d128c-89f9-40e5-a927-f524f4697c91",
   "metadata": {},
   "outputs": [],
   "source": [
    "Video_Games_df[['Critic_Score','Critic_Score_Cat']]"
   ]
  },
  {
   "cell_type": "code",
   "execution_count": null,
   "id": "20d31a6e-76b7-4cfa-8801-a0ca157a736f",
   "metadata": {},
   "outputs": [],
   "source": [
    "sns.scatterplot(data=Video_Games_df, x='NA_Sales', y='EU_Sales', hue='Critic_Score_Cat')"
   ]
  },
  {
   "cell_type": "code",
   "execution_count": null,
   "id": "5c078443-663f-45a3-9f65-54fcfd637635",
   "metadata": {},
   "outputs": [],
   "source": []
  },
  {
   "cell_type": "code",
   "execution_count": null,
   "id": "0cc100f5-4346-4e09-812a-7f27aae5492a",
   "metadata": {},
   "outputs": [],
   "source": [
    "from sklearn import preprocessing"
   ]
  },
  {
   "cell_type": "code",
   "execution_count": null,
   "id": "9ad82501-af78-4984-b051-ead04999b1f4",
   "metadata": {},
   "outputs": [],
   "source": [
    "red_wine_df = pd.read_csv('winequality-red.csv', delimiter=';')\n",
    "wine_continuos = red_wine_df.drop('quality', axis = 1)\n",
    "discretizer = preprocessing.KBinsDiscretizer(n_bins=5, encode='ordinal', strategy='uniform')\n",
    "red_wine_discretize_df = pd.DataFrame(discretizer.fit_transform(wine_continuos), columns=wine_continuos.columns)\n",
    "red_wine_discretize_df['quality'] = red_wine_df['quality']\n",
    "red_wine_discretize_df"
   ]
  },
  {
   "cell_type": "code",
   "execution_count": null,
   "id": "c82cc076-581f-4520-a034-4e7a4088e2a7",
   "metadata": {},
   "outputs": [],
   "source": [
    "discretizer.bin_edges_"
   ]
  },
  {
   "cell_type": "code",
   "execution_count": null,
   "id": "a87974dc-4abc-47ea-b0f6-80ad1788c8d6",
   "metadata": {},
   "outputs": [],
   "source": [
    "red_wine_discretize_df.describe()"
   ]
  },
  {
   "cell_type": "code",
   "execution_count": null,
   "id": "0843aaa5-cabf-40fe-b9da-cfe55244246d",
   "metadata": {},
   "outputs": [],
   "source": [
    "red_wine_discretize_df['fixed acidity'].unique()"
   ]
  },
  {
   "cell_type": "code",
   "execution_count": null,
   "id": "3341fc5b-a86c-432e-85b0-b25d56df9f34",
   "metadata": {},
   "outputs": [],
   "source": []
  },
  {
   "cell_type": "code",
   "execution_count": null,
   "id": "362bd533-b00a-4973-ba24-cf2d575c1103",
   "metadata": {},
   "outputs": [],
   "source": [
    "red_wine_df = pd.read_csv('winequality-red.csv', delimiter=';')\n",
    "wine_continuos = red_wine_df.drop('quality',axis = 1)\n",
    "discretizer = preprocessing.KBinsDiscretizer(n_bins=5, encode='ordinal', strategy='quantile')\n",
    "red_wine_discretize_df = pd.DataFrame(discretizer.fit_transform(wine_continuos), columns=wine_continuos.columns)\n",
    "red_wine_discretize_df['quality'] = red_wine_df['quality']\n",
    "red_wine_discretize_df"
   ]
  },
  {
   "cell_type": "code",
   "execution_count": null,
   "id": "61e12ad9-33b8-457c-9af3-434d72d8ec57",
   "metadata": {},
   "outputs": [],
   "source": []
  },
  {
   "cell_type": "markdown",
   "id": "e4d7a020",
   "metadata": {},
   "source": [
    "# Padronização"
   ]
  },
  {
   "cell_type": "code",
   "execution_count": null,
   "id": "bd2f8082-7713-4338-b9bc-b2689d16552b",
   "metadata": {},
   "outputs": [],
   "source": [
    "# Para o intervalo [0,1]\n",
    "red_wine_df = pd.read_csv('winequality-red.csv', delimiter = ';')\n",
    "red_wine_df_new_range = red_wine_df.copy()\n",
    "coluna_original='fixed acidity'\n",
    "coluna_destino=coluna_original+'_range'\n",
    "red_wine_df_new_range[coluna_destino] = (red_wine_df[coluna_original] - red_wine_df[coluna_original].min()) / (red_wine_df[coluna_original].max() - red_wine_df[coluna_original].min())    \n",
    "red_wine_df_new_range.describe()"
   ]
  },
  {
   "cell_type": "code",
   "execution_count": null,
   "id": "a7f291aa-9d5f-4aa0-a40e-bb7be4af882e",
   "metadata": {},
   "outputs": [],
   "source": [
    "red_wine_df = pd.read_csv('winequality-red.csv', delimiter=';')\n",
    "dados_reescaling = red_wine_df.drop('quality',axis = 1)\n",
    "min_max_scaler = preprocessing.MinMaxScaler(feature_range=(0,1))\n",
    "dados_minmax = min_max_scaler.fit_transform(dados_reescaling)\n",
    "dados_minmax\n",
    "wine_new_range_df = pd.DataFrame(dados_minmax, columns= dados_reescaling.columns)\n",
    "wine_new_range_df['quality'] = red_wine_df['quality']"
   ]
  },
  {
   "cell_type": "code",
   "execution_count": null,
   "id": "745a8b70-061d-4c59-95a4-9a0029323e79",
   "metadata": {},
   "outputs": [],
   "source": [
    "wine_new_range_df.describe()"
   ]
  },
  {
   "cell_type": "code",
   "execution_count": null,
   "id": "7ec9176c-3fcc-4090-8af3-501c9f273868",
   "metadata": {},
   "outputs": [],
   "source": []
  },
  {
   "cell_type": "code",
   "execution_count": null,
   "id": "9ff790e0-ba1d-4346-b132-0cca036bde67",
   "metadata": {},
   "outputs": [],
   "source": [
    "red_wine_df = pd.read_csv('winequality-red.csv', delimiter=';')\n",
    "dados_reescaling = red_wine_df.drop('quality',axis = 1)\n",
    "min_max_scaler = preprocessing.MinMaxScaler(feature_range=(-1,1))\n",
    "dados_minmax = min_max_scaler.fit_transform(dados_reescaling)\n",
    "dados_minmax\n",
    "wine_new_range_df = pd.DataFrame(dados_minmax, columns= dados_reescaling.columns)\n",
    "wine_new_range_df['quality'] = red_wine_df['quality']"
   ]
  },
  {
   "cell_type": "code",
   "execution_count": null,
   "id": "538bcdeb-25e1-4854-8ac5-7dc63c8ee5b9",
   "metadata": {},
   "outputs": [],
   "source": [
    "wine_new_range_df.describe()"
   ]
  },
  {
   "cell_type": "code",
   "execution_count": null,
   "id": "f32ef0be-e8dd-42bc-8847-ae1917a820df",
   "metadata": {},
   "outputs": [],
   "source": []
  },
  {
   "cell_type": "markdown",
   "id": "64f6d1e4",
   "metadata": {},
   "source": [
    "# Seleção de atributos"
   ]
  },
  {
   "cell_type": "code",
   "execution_count": null,
   "id": "d534802f-7fc7-4931-80e4-3bf4c76e85bb",
   "metadata": {},
   "outputs": [],
   "source": [
    "from sklearn.feature_selection import VarianceThreshold\n",
    "red_wine_df = pd.read_csv('winequality-red.csv', delimiter=';')\n",
    "sel = VarianceThreshold(threshold=0)\n",
    "wine_selection_feature = pd.DataFrame(sel.fit_transform(red_wine_df.drop('quality',axis = 1)), columns=sel.get_feature_names_out(sel.feature_names_in_))\n",
    "wine_selection_feature['quality'] = red_wine_df['quality']"
   ]
  },
  {
   "cell_type": "code",
   "execution_count": null,
   "id": "9eb19637-8588-4bad-9338-a27ff69752e0",
   "metadata": {},
   "outputs": [],
   "source": [
    "red_wine_df.head()"
   ]
  },
  {
   "cell_type": "code",
   "execution_count": null,
   "id": "ee052d09-9011-432e-8a87-b7b8561927f7",
   "metadata": {},
   "outputs": [],
   "source": [
    "sel.get_feature_names_out(sel.feature_names_in_)"
   ]
  },
  {
   "cell_type": "code",
   "execution_count": null,
   "id": "b8d82ea2-4ec4-4794-91e8-0468ddbaf350",
   "metadata": {},
   "outputs": [],
   "source": [
    "wine_selection_feature"
   ]
  },
  {
   "cell_type": "code",
   "execution_count": null,
   "id": "27d1aee8-77d3-4db0-b3fa-3e85cbe5e430",
   "metadata": {},
   "outputs": [],
   "source": []
  },
  {
   "cell_type": "code",
   "execution_count": null,
   "id": "b27c70e8-eaf6-4a68-946e-403acb5ae4d8",
   "metadata": {},
   "outputs": [],
   "source": [
    "from sklearn.feature_selection import VarianceThreshold\n",
    "sel = VarianceThreshold(threshold=3)\n",
    "wine_selection_feature = pd.DataFrame(sel.fit_transform(red_wine_df.drop('quality', axis = 1)), columns=sel.get_feature_names_out(sel.feature_names_in_))\n",
    "wine_selection_feature['quality'] = red_wine_df['quality']"
   ]
  },
  {
   "cell_type": "code",
   "execution_count": null,
   "id": "f6556aed-6a91-418c-b694-105e0b3b0e46",
   "metadata": {},
   "outputs": [],
   "source": [
    "sel.get_feature_names_out(sel.feature_names_in_)"
   ]
  },
  {
   "cell_type": "code",
   "execution_count": null,
   "id": "5005dabb-577f-43c3-93a7-ae4e04e53b5e",
   "metadata": {},
   "outputs": [],
   "source": [
    "wine_selection_feature"
   ]
  },
  {
   "cell_type": "code",
   "execution_count": null,
   "id": "a7541ea1-c492-4af9-8b30-e67de8d057c7",
   "metadata": {},
   "outputs": [],
   "source": []
  },
  {
   "cell_type": "code",
   "execution_count": null,
   "id": "1a17e5d0-dfff-4238-b581-fdbc63226b13",
   "metadata": {},
   "outputs": [],
   "source": [
    "from sklearn.feature_selection import SelectKBest\n",
    "from sklearn.feature_selection import f_classif\n",
    "red_wine_df = pd.read_csv('winequality-red.csv', delimiter=';')\n",
    "X = red_wine_df.drop('quality',axis = 1)\n",
    "y = red_wine_df['quality']\n",
    "X.shape\n",
    "sel = SelectKBest(f_classif, k=3).fit(X,y)\n",
    "wine_selection_feature = pd.DataFrame(sel.fit_transform(X,y), columns=sel.get_feature_names_out(sel.feature_names_in_))\n",
    "wine_selection_feature['quality'] = red_wine_df['quality']\n"
   ]
  },
  {
   "cell_type": "code",
   "execution_count": null,
   "id": "c8000d6e-8df3-429a-8a07-2beeb4cbf0e3",
   "metadata": {},
   "outputs": [],
   "source": [
    "red_wine_df.columns"
   ]
  },
  {
   "cell_type": "code",
   "execution_count": null,
   "id": "792c8f2a-3469-42de-919f-0a9c7630df79",
   "metadata": {},
   "outputs": [],
   "source": [
    "sel.scores_"
   ]
  },
  {
   "cell_type": "code",
   "execution_count": null,
   "id": "81e5dff1-b07a-4545-b226-a0a6e0643982",
   "metadata": {},
   "outputs": [],
   "source": [
    "wine_selection_feature"
   ]
  },
  {
   "cell_type": "code",
   "execution_count": null,
   "id": "1ec2ea68-8a2a-45de-b0a4-123d0cc21ea0",
   "metadata": {},
   "outputs": [],
   "source": [
    "sns.pairplot(wine_selection_feature)"
   ]
  },
  {
   "cell_type": "code",
   "execution_count": null,
   "id": "95a36ebb-228a-4e5a-9aee-c8c22a89cd11",
   "metadata": {},
   "outputs": [],
   "source": []
  },
  {
   "cell_type": "code",
   "execution_count": null,
   "id": "4f2855e3-bdc5-4a91-9352-0b755523ebb5",
   "metadata": {},
   "outputs": [],
   "source": [
    "from sklearn.feature_selection import SelectKBest\n",
    "from sklearn.feature_selection import f_classif\n",
    "red_wine_df = pd.read_csv('winequality-red.csv', delimiter=';')\n",
    "X = red_wine_df.drop('quality', axis = 1)\n",
    "y = red_wine_df['quality']\n",
    "X.shape\n",
    "sel = SelectKBest(f_classif, k='all').fit(X,y)\n",
    "wine_selection_feature = pd.DataFrame(sel.fit_transform(X,y), columns=sel.get_feature_names_out(sel.feature_names_in_))\n",
    "wine_selection_feature['quality'] = red_wine_df['quality']\n"
   ]
  },
  {
   "cell_type": "code",
   "execution_count": null,
   "id": "bad98188-a1bc-4b02-b349-85bd43e528f1",
   "metadata": {
    "scrolled": true
   },
   "outputs": [],
   "source": [
    "wine_selection_feature"
   ]
  },
  {
   "cell_type": "code",
   "execution_count": null,
   "id": "3b5024ce-ded6-4a5e-96ff-0f693a83f591",
   "metadata": {},
   "outputs": [],
   "source": []
  },
  {
   "cell_type": "markdown",
   "id": "1adcebc5",
   "metadata": {},
   "source": [
    "# PCA"
   ]
  },
  {
   "cell_type": "code",
   "execution_count": null,
   "id": "bbf845be-672a-436f-8e08-86a50f8de2ce",
   "metadata": {},
   "outputs": [],
   "source": [
    "from sklearn.decomposition import PCA\n",
    "red_wine_df = pd.read_csv('winequality-red.csv',delimiter=';')\n",
    "dados_wine = red_wine_df.drop('quality', axis = 1)\n",
    "qualidade = red_wine_df['quality']\n",
    "pca = PCA(n_components=11)\n",
    "pca.fit(dados_wine)\n",
    "dados_wine = pca.transform(dados_wine)\n",
    "red_wine_new_df = pd.DataFrame(dados_wine, columns=pca.get_feature_names_out())\n",
    "red_wine_new_df['target'] = red_wine_df['quality']"
   ]
  },
  {
   "cell_type": "code",
   "execution_count": null,
   "id": "5224ff4d-5f90-4f1e-8d27-282384355eaa",
   "metadata": {},
   "outputs": [],
   "source": [
    "red_wine_new_df"
   ]
  },
  {
   "cell_type": "code",
   "execution_count": null,
   "id": "5b945a57-0772-4df9-a425-f088dccb2ed5",
   "metadata": {},
   "outputs": [],
   "source": [
    "pca.score_samples"
   ]
  },
  {
   "cell_type": "code",
   "execution_count": null,
   "id": "fe9f6337-c437-46c2-a0d5-45422c52c91a",
   "metadata": {},
   "outputs": [],
   "source": [
    "sns.pairplot(red_wine_new_df)"
   ]
  },
  {
   "cell_type": "code",
   "execution_count": null,
   "id": "86a22663-7988-414b-ab18-a7ee6c3d1d31",
   "metadata": {},
   "outputs": [],
   "source": []
  },
  {
   "cell_type": "code",
   "execution_count": null,
   "id": "9dfacad8-a29c-45a6-8040-536566b06437",
   "metadata": {},
   "outputs": [],
   "source": [
    "pca.explained_variance_ratio_"
   ]
  },
  {
   "cell_type": "code",
   "execution_count": null,
   "id": "16e31e7e-6675-4e13-a883-b8f547dbafc0",
   "metadata": {},
   "outputs": [],
   "source": []
  },
  {
   "cell_type": "code",
   "execution_count": null,
   "id": "9516cae2-d7d3-44e4-b6fe-ceb215e5f368",
   "metadata": {},
   "outputs": [],
   "source": [
    "red_wine_new_df.describe()"
   ]
  },
  {
   "cell_type": "code",
   "execution_count": null,
   "id": "b0f0d6dd",
   "metadata": {},
   "outputs": [],
   "source": []
  }
 ],
 "metadata": {
  "kernelspec": {
   "display_name": "Python 3 (ipykernel)",
   "language": "python",
   "name": "python3"
  },
  "language_info": {
   "codemirror_mode": {
    "name": "ipython",
    "version": 3
   },
   "file_extension": ".py",
   "mimetype": "text/x-python",
   "name": "python",
   "nbconvert_exporter": "python",
   "pygments_lexer": "ipython3",
   "version": "3.10.9"
  }
 },
 "nbformat": 4,
 "nbformat_minor": 5
}