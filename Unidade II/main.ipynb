{
 "cells": [
  {
   "cell_type": "code",
   "execution_count": 56,
   "id": "53ca0c15",
   "metadata": {},
   "outputs": [],
   "source": [
    "import pandas as pd\n",
    "import seaborn as sns\n",
    "import matplotlib.pyplot as plt\n",
    "import numpy as np"
   ]
  },
  {
   "cell_type": "code",
   "execution_count": 57,
   "id": "0d624c6d",
   "metadata": {},
   "outputs": [],
   "source": [
    "red_wine_df = pd.read_csv('./datas/winequality-red.csv', delimiter=';')"
   ]
  },
  {
   "cell_type": "code",
   "execution_count": 58,
   "id": "4bace5dd",
   "metadata": {},
   "outputs": [
    {
     "name": "stdout",
     "output_type": "stream",
     "text": [
      "<class 'pandas.core.frame.DataFrame'>\n",
      "RangeIndex: 1599 entries, 0 to 1598\n",
      "Data columns (total 12 columns):\n",
      " #   Column                Non-Null Count  Dtype  \n",
      "---  ------                --------------  -----  \n",
      " 0   fixed acidity         1599 non-null   float64\n",
      " 1   volatile acidity      1599 non-null   float64\n",
      " 2   citric acid           1599 non-null   float64\n",
      " 3   residual sugar        1599 non-null   float64\n",
      " 4   chlorides             1599 non-null   float64\n",
      " 5   free sulfur dioxide   1599 non-null   float64\n",
      " 6   total sulfur dioxide  1599 non-null   float64\n",
      " 7   density               1599 non-null   float64\n",
      " 8   pH                    1599 non-null   float64\n",
      " 9   sulphates             1599 non-null   float64\n",
      " 10  alcohol               1599 non-null   float64\n",
      " 11  quality               1599 non-null   int64  \n",
      "dtypes: float64(11), int64(1)\n",
      "memory usage: 150.0 KB\n"
     ]
    }
   ],
   "source": [
    "red_wine_df.info()"
   ]
  },
  {
   "cell_type": "markdown",
   "id": "40f4e5c7",
   "metadata": {},
   "source": [
    "# Media"
   ]
  },
  {
   "cell_type": "code",
   "execution_count": 59,
   "id": "c2d547ae",
   "metadata": {},
   "outputs": [
    {
     "data": {
      "text/plain": [
       "fixed acidity            8.319637\n",
       "volatile acidity         0.527821\n",
       "citric acid              0.270976\n",
       "residual sugar           2.538806\n",
       "chlorides                0.087467\n",
       "free sulfur dioxide     15.874922\n",
       "total sulfur dioxide    46.467792\n",
       "density                  0.996747\n",
       "pH                       3.311113\n",
       "sulphates                0.658149\n",
       "alcohol                 10.422983\n",
       "quality                  5.636023\n",
       "dtype: float64"
      ]
     },
     "execution_count": 59,
     "metadata": {},
     "output_type": "execute_result"
    }
   ],
   "source": [
    "red_wine_df.mean()"
   ]
  },
  {
   "cell_type": "code",
   "execution_count": 60,
   "id": "f5e85c90",
   "metadata": {},
   "outputs": [
    {
     "data": {
      "text/plain": [
       "10.422983114446529"
      ]
     },
     "execution_count": 60,
     "metadata": {},
     "output_type": "execute_result"
    }
   ],
   "source": [
    "red_wine_df['alcohol'].mean()"
   ]
  },
  {
   "cell_type": "markdown",
   "id": "030c0936",
   "metadata": {},
   "source": [
    "# Mediana"
   ]
  },
  {
   "cell_type": "code",
   "execution_count": 61,
   "id": "4d9ba621",
   "metadata": {},
   "outputs": [
    {
     "data": {
      "text/plain": [
       "fixed acidity            7.90000\n",
       "volatile acidity         0.52000\n",
       "citric acid              0.26000\n",
       "residual sugar           2.20000\n",
       "chlorides                0.07900\n",
       "free sulfur dioxide     14.00000\n",
       "total sulfur dioxide    38.00000\n",
       "density                  0.99675\n",
       "pH                       3.31000\n",
       "sulphates                0.62000\n",
       "alcohol                 10.20000\n",
       "quality                  6.00000\n",
       "dtype: float64"
      ]
     },
     "execution_count": 61,
     "metadata": {},
     "output_type": "execute_result"
    }
   ],
   "source": [
    "red_wine_df.median()"
   ]
  },
  {
   "cell_type": "code",
   "execution_count": 62,
   "id": "87175d61",
   "metadata": {},
   "outputs": [
    {
     "data": {
      "text/plain": [
       "10.2"
      ]
     },
     "execution_count": 62,
     "metadata": {},
     "output_type": "execute_result"
    }
   ],
   "source": [
    "red_wine_df['alcohol'].median()"
   ]
  },
  {
   "cell_type": "markdown",
   "id": "39d56478",
   "metadata": {},
   "source": [
    "# Moda"
   ]
  },
  {
   "cell_type": "code",
   "execution_count": 63,
   "id": "71856ee4",
   "metadata": {},
   "outputs": [
    {
     "data": {
      "text/html": [
       "<div>\n",
       "<style scoped>\n",
       "    .dataframe tbody tr th:only-of-type {\n",
       "        vertical-align: middle;\n",
       "    }\n",
       "\n",
       "    .dataframe tbody tr th {\n",
       "        vertical-align: top;\n",
       "    }\n",
       "\n",
       "    .dataframe thead th {\n",
       "        text-align: right;\n",
       "    }\n",
       "</style>\n",
       "<table border=\"1\" class=\"dataframe\">\n",
       "  <thead>\n",
       "    <tr style=\"text-align: right;\">\n",
       "      <th></th>\n",
       "      <th>fixed acidity</th>\n",
       "      <th>volatile acidity</th>\n",
       "      <th>citric acid</th>\n",
       "      <th>residual sugar</th>\n",
       "      <th>chlorides</th>\n",
       "      <th>free sulfur dioxide</th>\n",
       "      <th>total sulfur dioxide</th>\n",
       "      <th>density</th>\n",
       "      <th>pH</th>\n",
       "      <th>sulphates</th>\n",
       "      <th>alcohol</th>\n",
       "      <th>quality</th>\n",
       "    </tr>\n",
       "  </thead>\n",
       "  <tbody>\n",
       "    <tr>\n",
       "      <th>0</th>\n",
       "      <td>7.2</td>\n",
       "      <td>0.6</td>\n",
       "      <td>0.0</td>\n",
       "      <td>2.0</td>\n",
       "      <td>0.08</td>\n",
       "      <td>6.0</td>\n",
       "      <td>28.0</td>\n",
       "      <td>0.9972</td>\n",
       "      <td>3.3</td>\n",
       "      <td>0.6</td>\n",
       "      <td>9.5</td>\n",
       "      <td>5</td>\n",
       "    </tr>\n",
       "  </tbody>\n",
       "</table>\n",
       "</div>"
      ],
      "text/plain": [
       "   fixed acidity  volatile acidity  citric acid  residual sugar  chlorides  \\\n",
       "0            7.2               0.6          0.0             2.0       0.08   \n",
       "\n",
       "   free sulfur dioxide  total sulfur dioxide  density   pH  sulphates  \\\n",
       "0                  6.0                  28.0   0.9972  3.3        0.6   \n",
       "\n",
       "   alcohol  quality  \n",
       "0      9.5        5  "
      ]
     },
     "execution_count": 63,
     "metadata": {},
     "output_type": "execute_result"
    }
   ],
   "source": [
    "red_wine_df.mode()"
   ]
  },
  {
   "cell_type": "code",
   "execution_count": 64,
   "id": "6568fdb9",
   "metadata": {},
   "outputs": [
    {
     "data": {
      "text/plain": [
       "0    9.5\n",
       "Name: alcohol, dtype: float64"
      ]
     },
     "execution_count": 64,
     "metadata": {},
     "output_type": "execute_result"
    }
   ],
   "source": [
    "red_wine_df['alcohol'].mode()"
   ]
  },
  {
   "cell_type": "code",
   "execution_count": 65,
   "id": "a46a5df2",
   "metadata": {},
   "outputs": [
    {
     "data": {
      "text/plain": [
       "0    5\n",
       "Name: quality, dtype: int64"
      ]
     },
     "execution_count": 65,
     "metadata": {},
     "output_type": "execute_result"
    }
   ],
   "source": [
    "red_wine_df['quality'].mode()"
   ]
  },
  {
   "cell_type": "code",
   "execution_count": 66,
   "id": "087d0f10",
   "metadata": {},
   "outputs": [
    {
     "data": {
      "text/plain": [
       "<Axes: xlabel='quality', ylabel='count'>"
      ]
     },
     "execution_count": 66,
     "metadata": {},
     "output_type": "execute_result"
    },
    {
     "data": {
      "image/png": "[encoded data removed]",
      "text/plain": [
       "<Figure size 640x480 with 1 Axes>"
      ]
     },
     "metadata": {},
     "output_type": "display_data"
    }
   ],
   "source": [
    "sns.countplot(red_wine_df, x=\"quality\")"
   ]
  },
  {
   "cell_type": "markdown",
   "id": "cf149c13",
   "metadata": {},
   "source": [
    "# Variância"
   ]
  },
  {
   "cell_type": "code",
   "execution_count": 67,
   "id": "ad2e07f9",
   "metadata": {},
   "outputs": [
    {
     "data": {
      "text/plain": [
       "fixed acidity              3.031416\n",
       "volatile acidity           0.032062\n",
       "citric acid                0.037947\n",
       "residual sugar             1.987897\n",
       "chlorides                  0.002215\n",
       "free sulfur dioxide      109.414884\n",
       "total sulfur dioxide    1082.102373\n",
       "density                    0.000004\n",
       "pH                         0.023835\n",
       "sulphates                  0.028733\n",
       "alcohol                    1.135647\n",
       "quality                    0.652168\n",
       "dtype: float64"
      ]
     },
     "execution_count": 67,
     "metadata": {},
     "output_type": "execute_result"
    }
   ],
   "source": [
    "red_wine_df.var()"
   ]
  },
  {
   "cell_type": "code",
   "execution_count": 68,
   "id": "295afb80",
   "metadata": {},
   "outputs": [
    {
     "data": {
      "text/plain": [
       "1.1356473950004737"
      ]
     },
     "execution_count": 68,
     "metadata": {},
     "output_type": "execute_result"
    }
   ],
   "source": [
    "red_wine_df['alcohol'].var()"
   ]
  },
  {
   "cell_type": "markdown",
   "id": "c637706c",
   "metadata": {},
   "source": [
    "# Desvio Padrão"
   ]
  },
  {
   "cell_type": "code",
   "execution_count": 69,
   "id": "d4454e50",
   "metadata": {},
   "outputs": [
    {
     "data": {
      "text/plain": [
       "fixed acidity            1.741096\n",
       "volatile acidity         0.179060\n",
       "citric acid              0.194801\n",
       "residual sugar           1.409928\n",
       "chlorides                0.047065\n",
       "free sulfur dioxide     10.460157\n",
       "total sulfur dioxide    32.895324\n",
       "density                  0.001887\n",
       "pH                       0.154386\n",
       "sulphates                0.169507\n",
       "alcohol                  1.065668\n",
       "quality                  0.807569\n",
       "dtype: float64"
      ]
     },
     "execution_count": 69,
     "metadata": {},
     "output_type": "execute_result"
    }
   ],
   "source": [
    "red_wine_df.std()"
   ]
  },
  {
   "cell_type": "code",
   "execution_count": 70,
   "id": "4a5c500e",
   "metadata": {},
   "outputs": [
    {
     "data": {
      "text/plain": [
       "1.0656675818473946"
      ]
     },
     "execution_count": 70,
     "metadata": {},
     "output_type": "execute_result"
    }
   ],
   "source": [
    "red_wine_df['alcohol'].std()"
   ]
  },
  {
   "cell_type": "markdown",
   "id": "d6d67148",
   "metadata": {},
   "source": [
    "# Skewness"
   ]
  },
  {
   "cell_type": "code",
   "execution_count": 71,
   "id": "336b1114",
   "metadata": {},
   "outputs": [
    {
     "data": {
      "text/plain": [
       "fixed acidity           0.982751\n",
       "volatile acidity        0.671593\n",
       "citric acid             0.318337\n",
       "residual sugar          4.540655\n",
       "chlorides               5.680347\n",
       "free sulfur dioxide     1.250567\n",
       "total sulfur dioxide    1.515531\n",
       "density                 0.071288\n",
       "pH                      0.193683\n",
       "sulphates               2.428672\n",
       "alcohol                 0.860829\n",
       "quality                 0.217802\n",
       "dtype: float64"
      ]
     },
     "execution_count": 71,
     "metadata": {},
     "output_type": "execute_result"
    }
   ],
   "source": [
    "red_wine_df.skew()"
   ]
  },
  {
   "cell_type": "code",
   "execution_count": 72,
   "id": "f477e812",
   "metadata": {},
   "outputs": [
    {
     "data": {
      "text/plain": [
       "0.8608288068888538"
      ]
     },
     "execution_count": 72,
     "metadata": {},
     "output_type": "execute_result"
    }
   ],
   "source": [
    "red_wine_df['alcohol'].skew()"
   ]
  },
  {
   "cell_type": "markdown",
   "id": "04b3ce44",
   "metadata": {},
   "source": [
    "# Kurtosis"
   ]
  },
  {
   "cell_type": "code",
   "execution_count": 73,
   "id": "ad78a398",
   "metadata": {},
   "outputs": [
    {
     "data": {
      "text/plain": [
       "fixed acidity            1.132143\n",
       "volatile acidity         1.225542\n",
       "citric acid             -0.788998\n",
       "residual sugar          28.617595\n",
       "chlorides               41.715787\n",
       "free sulfur dioxide      2.023562\n",
       "total sulfur dioxide     3.809824\n",
       "density                  0.934079\n",
       "pH                       0.806943\n",
       "sulphates               11.720251\n",
       "alcohol                  0.200029\n",
       "quality                  0.296708\n",
       "dtype: float64"
      ]
     },
     "execution_count": 73,
     "metadata": {},
     "output_type": "execute_result"
    }
   ],
   "source": [
    "red_wine_df.kurt()"
   ]
  },
  {
   "cell_type": "code",
   "execution_count": 74,
   "id": "40b6e37d",
   "metadata": {},
   "outputs": [
    {
     "data": {
      "text/plain": [
       "0.2000293113417695"
      ]
     },
     "execution_count": 74,
     "metadata": {},
     "output_type": "execute_result"
    }
   ],
   "source": [
    "red_wine_df['alcohol'].kurt()"
   ]
  },
  {
   "cell_type": "code",
   "execution_count": 75,
   "id": "0e4eb74b",
   "metadata": {},
   "outputs": [
    {
     "name": "stdout",
     "output_type": "stream",
     "text": [
      "Kurtosis = 0.2000293113417695\n",
      "Skewness = 0.8608288068888538\n"
     ]
    }
   ],
   "source": [
    "print(\"Kurtosis = {}\\nSkewness = {}\".format(red_wine_df['alcohol'].kurt(),red_wine_df['alcohol'].skew()))"
   ]
  },
  {
   "cell_type": "markdown",
   "id": "51991e71",
   "metadata": {},
   "source": [
    "# Percentile"
   ]
  },
  {
   "cell_type": "code",
   "execution_count": 76,
   "id": "bb0a790f",
   "metadata": {},
   "outputs": [
    {
     "data": {
      "text/plain": [
       "fixed acidity            7.90000\n",
       "volatile acidity         0.52000\n",
       "citric acid              0.26000\n",
       "residual sugar           2.20000\n",
       "chlorides                0.07900\n",
       "free sulfur dioxide     14.00000\n",
       "total sulfur dioxide    38.00000\n",
       "density                  0.99675\n",
       "pH                       3.31000\n",
       "sulphates                0.62000\n",
       "alcohol                 10.20000\n",
       "quality                  6.00000\n",
       "Name: 0.5, dtype: float64"
      ]
     },
     "execution_count": 76,
     "metadata": {},
     "output_type": "execute_result"
    }
   ],
   "source": [
    "red_wine_df.quantile(q=0.5)"
   ]
  },
  {
   "cell_type": "code",
   "execution_count": 77,
   "id": "d2bb821d",
   "metadata": {},
   "outputs": [
    {
     "data": {
      "text/plain": [
       "10.2"
      ]
     },
     "execution_count": 77,
     "metadata": {},
     "output_type": "execute_result"
    }
   ],
   "source": [
    "red_wine_df['alcohol'].quantile(q=0.5)"
   ]
  },
  {
   "cell_type": "code",
   "execution_count": 78,
   "id": "5d462efe-a827-4db4-a285-39a4d50a75e5",
   "metadata": {},
   "outputs": [
    {
     "data": {
      "text/plain": [
       "fixed acidity            7.1000\n",
       "volatile acidity         0.3900\n",
       "citric acid              0.0900\n",
       "residual sugar           1.9000\n",
       "chlorides                0.0700\n",
       "free sulfur dioxide      7.0000\n",
       "total sulfur dioxide    22.0000\n",
       "density                  0.9956\n",
       "pH                       3.2100\n",
       "sulphates                0.5500\n",
       "alcohol                  9.5000\n",
       "quality                  5.0000\n",
       "Name: 0.25, dtype: float64"
      ]
     },
     "execution_count": 78,
     "metadata": {},
     "output_type": "execute_result"
    }
   ],
   "source": [
    "red_wine_df.quantile(q=0.25)"
   ]
  },
  {
   "cell_type": "code",
   "execution_count": 79,
   "id": "6be545b6-759c-4a83-ad12-c607ac3ea9f8",
   "metadata": {},
   "outputs": [
    {
     "data": {
      "text/plain": [
       "fixed acidity            7.90000\n",
       "volatile acidity         0.52000\n",
       "citric acid              0.26000\n",
       "residual sugar           2.20000\n",
       "chlorides                0.07900\n",
       "free sulfur dioxide     14.00000\n",
       "total sulfur dioxide    38.00000\n",
       "density                  0.99675\n",
       "pH                       3.31000\n",
       "sulphates                0.62000\n",
       "alcohol                 10.20000\n",
       "quality                  6.00000\n",
       "Name: 0.5, dtype: float64"
      ]
     },
     "execution_count": 79,
     "metadata": {},
     "output_type": "execute_result"
    }
   ],
   "source": [
    "red_wine_df.quantile(q=0.5)"
   ]
  },
  {
   "cell_type": "code",
   "execution_count": 80,
   "id": "c1dca4f4-fb49-408d-bd21-751e30754cca",
   "metadata": {},
   "outputs": [
    {
     "data": {
      "text/plain": [
       "fixed acidity            9.200000\n",
       "volatile acidity         0.640000\n",
       "citric acid              0.420000\n",
       "residual sugar           2.600000\n",
       "chlorides                0.090000\n",
       "free sulfur dioxide     21.000000\n",
       "total sulfur dioxide    62.000000\n",
       "density                  0.997835\n",
       "pH                       3.400000\n",
       "sulphates                0.730000\n",
       "alcohol                 11.100000\n",
       "quality                  6.000000\n",
       "Name: 0.75, dtype: float64"
      ]
     },
     "execution_count": 80,
     "metadata": {},
     "output_type": "execute_result"
    }
   ],
   "source": [
    "red_wine_df.quantile(q=0.75)"
   ]
  },
  {
   "cell_type": "code",
   "execution_count": 81,
   "id": "2eb4dbe1-2ab9-4c8a-8a9f-5e7093c56584",
   "metadata": {},
   "outputs": [
    {
     "data": {
      "text/plain": [
       "9.5"
      ]
     },
     "execution_count": 81,
     "metadata": {},
     "output_type": "execute_result"
    }
   ],
   "source": [
    "red_wine_df['alcohol'].quantile(q=0.25)"
   ]
  },
  {
   "cell_type": "code",
   "execution_count": 82,
   "id": "327ec080-038d-407d-881d-97b714a0544d",
   "metadata": {},
   "outputs": [
    {
     "data": {
      "text/plain": [
       "10.2"
      ]
     },
     "execution_count": 82,
     "metadata": {},
     "output_type": "execute_result"
    }
   ],
   "source": [
    "red_wine_df['alcohol'].quantile(q=0.5)"
   ]
  },
  {
   "cell_type": "code",
   "execution_count": 83,
   "id": "148646ef-fdbe-49a2-9c66-83d9dcb0bf86",
   "metadata": {},
   "outputs": [
    {
     "data": {
      "text/plain": [
       "11.1"
      ]
     },
     "execution_count": 83,
     "metadata": {},
     "output_type": "execute_result"
    }
   ],
   "source": [
    "red_wine_df['alcohol'].quantile(q=0.75)"
   ]
  },
  {
   "cell_type": "code",
   "execution_count": null,
   "id": "7f2ae477-ac23-4f17-ba16-2aaa8444eb68",
   "metadata": {},
   "outputs": [],
   "source": []
  },
  {
   "cell_type": "markdown",
   "id": "7838c2a2",
   "metadata": {},
   "source": [
    "Estatística Descritiva"
   ]
  },
  {
   "cell_type": "code",
   "execution_count": 84,
   "id": "45eb77bd",
   "metadata": {},
   "outputs": [
    {
     "data": {
      "text/html": [
       "<div>\n",
       "<style scoped>\n",
       "    .dataframe tbody tr th:only-of-type {\n",
       "        vertical-align: middle;\n",
       "    }\n",
       "\n",
       "    .dataframe tbody tr th {\n",
       "        vertical-align: top;\n",
       "    }\n",
       "\n",
       "    .dataframe thead th {\n",
       "        text-align: right;\n",
       "    }\n",
       "</style>\n",
       "<table border=\"1\" class=\"dataframe\">\n",
       "  <thead>\n",
       "    <tr style=\"text-align: right;\">\n",
       "      <th></th>\n",
       "      <th>fixed acidity</th>\n",
       "      <th>volatile acidity</th>\n",
       "      <th>citric acid</th>\n",
       "      <th>residual sugar</th>\n",
       "      <th>chlorides</th>\n",
       "      <th>free sulfur dioxide</th>\n",
       "      <th>total sulfur dioxide</th>\n",
       "      <th>density</th>\n",
       "      <th>pH</th>\n",
       "      <th>sulphates</th>\n",
       "      <th>alcohol</th>\n",
       "      <th>quality</th>\n",
       "    </tr>\n",
       "  </thead>\n",
       "  <tbody>\n",
       "    <tr>\n",
       "      <th>count</th>\n",
       "      <td>1599.000000</td>\n",
       "      <td>1599.000000</td>\n",
       "      <td>1599.000000</td>\n",
       "      <td>1599.000000</td>\n",
       "      <td>1599.000000</td>\n",
       "      <td>1599.000000</td>\n",
       "      <td>1599.000000</td>\n",
       "      <td>1599.000000</td>\n",
       "      <td>1599.000000</td>\n",
       "      <td>1599.000000</td>\n",
       "      <td>1599.000000</td>\n",
       "      <td>1599.000000</td>\n",
       "    </tr>\n",
       "    <tr>\n",
       "      <th>mean</th>\n",
       "      <td>8.319637</td>\n",
       "      <td>0.527821</td>\n",
       "      <td>0.270976</td>\n",
       "      <td>2.538806</td>\n",
       "      <td>0.087467</td>\n",
       "      <td>15.874922</td>\n",
       "      <td>46.467792</td>\n",
       "      <td>0.996747</td>\n",
       "      <td>3.311113</td>\n",
       "      <td>0.658149</td>\n",
       "      <td>10.422983</td>\n",
       "      <td>5.636023</td>\n",
       "    </tr>\n",
       "    <tr>\n",
       "      <th>std</th>\n",
       "      <td>1.741096</td>\n",
       "      <td>0.179060</td>\n",
       "      <td>0.194801</td>\n",
       "      <td>1.409928</td>\n",
       "      <td>0.047065</td>\n",
       "      <td>10.460157</td>\n",
       "      <td>32.895324</td>\n",
       "      <td>0.001887</td>\n",
       "      <td>0.154386</td>\n",
       "      <td>0.169507</td>\n",
       "      <td>1.065668</td>\n",
       "      <td>0.807569</td>\n",
       "    </tr>\n",
       "    <tr>\n",
       "      <th>min</th>\n",
       "      <td>4.600000</td>\n",
       "      <td>0.120000</td>\n",
       "      <td>0.000000</td>\n",
       "      <td>0.900000</td>\n",
       "      <td>0.012000</td>\n",
       "      <td>1.000000</td>\n",
       "      <td>6.000000</td>\n",
       "      <td>0.990070</td>\n",
       "      <td>2.740000</td>\n",
       "      <td>0.330000</td>\n",
       "      <td>8.400000</td>\n",
       "      <td>3.000000</td>\n",
       "    </tr>\n",
       "    <tr>\n",
       "      <th>25%</th>\n",
       "      <td>7.100000</td>\n",
       "      <td>0.390000</td>\n",
       "      <td>0.090000</td>\n",
       "      <td>1.900000</td>\n",
       "      <td>0.070000</td>\n",
       "      <td>7.000000</td>\n",
       "      <td>22.000000</td>\n",
       "      <td>0.995600</td>\n",
       "      <td>3.210000</td>\n",
       "      <td>0.550000</td>\n",
       "      <td>9.500000</td>\n",
       "      <td>5.000000</td>\n",
       "    </tr>\n",
       "    <tr>\n",
       "      <th>50%</th>\n",
       "      <td>7.900000</td>\n",
       "      <td>0.520000</td>\n",
       "      <td>0.260000</td>\n",
       "      <td>2.200000</td>\n",
       "      <td>0.079000</td>\n",
       "      <td>14.000000</td>\n",
       "      <td>38.000000</td>\n",
       "      <td>0.996750</td>\n",
       "      <td>3.310000</td>\n",
       "      <td>0.620000</td>\n",
       "      <td>10.200000</td>\n",
       "      <td>6.000000</td>\n",
       "    </tr>\n",
       "    <tr>\n",
       "      <th>75%</th>\n",
       "      <td>9.200000</td>\n",
       "      <td>0.640000</td>\n",
       "      <td>0.420000</td>\n",
       "      <td>2.600000</td>\n",
       "      <td>0.090000</td>\n",
       "      <td>21.000000</td>\n",
       "      <td>62.000000</td>\n",
       "      <td>0.997835</td>\n",
       "      <td>3.400000</td>\n",
       "      <td>0.730000</td>\n",
       "      <td>11.100000</td>\n",
       "      <td>6.000000</td>\n",
       "    </tr>\n",
       "    <tr>\n",
       "      <th>max</th>\n",
       "      <td>15.900000</td>\n",
       "      <td>1.580000</td>\n",
       "      <td>1.000000</td>\n",
       "      <td>15.500000</td>\n",
       "      <td>0.611000</td>\n",
       "      <td>72.000000</td>\n",
       "      <td>289.000000</td>\n",
       "      <td>1.003690</td>\n",
       "      <td>4.010000</td>\n",
       "      <td>2.000000</td>\n",
       "      <td>14.900000</td>\n",
       "      <td>8.000000</td>\n",
       "    </tr>\n",
       "  </tbody>\n",
       "</table>\n",
       "</div>"
      ],
      "text/plain": [
       "       fixed acidity  volatile acidity  citric acid  residual sugar  \\\n",
       "count    1599.000000       1599.000000  1599.000000     1599.000000   \n",
       "mean        8.319637          0.527821     0.270976        2.538806   \n",
       "std         1.741096          0.179060     0.194801        1.409928   \n",
       "min         4.600000          0.120000     0.000000        0.900000   \n",
       "25%         7.100000          0.390000     0.090000        1.900000   \n",
       "50%         7.900000          0.520000     0.260000        2.200000   \n",
       "75%         9.200000          0.640000     0.420000        2.600000   \n",
       "max        15.900000          1.580000     1.000000       15.500000   \n",
       "\n",
       "         chlorides  free sulfur dioxide  total sulfur dioxide      density  \\\n",
       "count  1599.000000          1599.000000           1599.000000  1599.000000   \n",
       "mean      0.087467            15.874922             46.467792     0.996747   \n",
       "std       0.047065            10.460157             32.895324     0.001887   \n",
       "min       0.012000             1.000000              6.000000     0.990070   \n",
       "25%       0.070000             7.000000             22.000000     0.995600   \n",
       "50%       0.079000            14.000000             38.000000     0.996750   \n",
       "75%       0.090000            21.000000             62.000000     0.997835   \n",
       "max       0.611000            72.000000            289.000000     1.003690   \n",
       "\n",
       "                pH    sulphates      alcohol      quality  \n",
       "count  1599.000000  1599.000000  1599.000000  1599.000000  \n",
       "mean      3.311113     0.658149    10.422983     5.636023  \n",
       "std       0.154386     0.169507     1.065668     0.807569  \n",
       "min       2.740000     0.330000     8.400000     3.000000  \n",
       "25%       3.210000     0.550000     9.500000     5.000000  \n",
       "50%       3.310000     0.620000    10.200000     6.000000  \n",
       "75%       3.400000     0.730000    11.100000     6.000000  \n",
       "max       4.010000     2.000000    14.900000     8.000000  "
      ]
     },
     "execution_count": 84,
     "metadata": {},
     "output_type": "execute_result"
    }
   ],
   "source": [
    "red_wine_df.describe()"
   ]
  },
  {
   "cell_type": "markdown",
   "id": "fb2550d9",
   "metadata": {},
   "source": [
    "# Gráfico de Contagem"
   ]
  },
  {
   "cell_type": "code",
   "execution_count": 85,
   "id": "b962a2bf",
   "metadata": {},
   "outputs": [
    {
     "data": {
      "image/png": "[encoded data removed]",
      "text/plain": [
       "<Figure size 640x480 with 1 Axes>"
      ]
     },
     "metadata": {},
     "output_type": "display_data"
    }
   ],
   "source": [
    "sns.countplot(red_wine_df, x='quality')\n",
    "plt.xlabel('Qualidade')\n",
    "plt.ylabel('Quantidade')\n",
    "plt.show()"
   ]
  },
  {
   "cell_type": "markdown",
   "id": "611f49db",
   "metadata": {},
   "source": [
    "# Gráfico de Pizza"
   ]
  },
  {
   "cell_type": "code",
   "execution_count": 86,
   "id": "1d71530f",
   "metadata": {},
   "outputs": [
    {
     "data": {
      "text/plain": [
       "(array([5, 6, 7, 4, 8, 3], dtype=int64),\n",
       " quality\n",
       " 3     10\n",
       " 4     53\n",
       " 5    681\n",
       " 6    638\n",
       " 7    199\n",
       " 8     18\n",
       " dtype: int64)"
      ]
     },
     "execution_count": 86,
     "metadata": {},
     "output_type": "execute_result"
    }
   ],
   "source": [
    "red_wine_df['quality'].unique(),red_wine_df.groupby('quality').size()"
   ]
  },
  {
   "cell_type": "code",
   "execution_count": 87,
   "id": "5b4a6456",
   "metadata": {},
   "outputs": [
    {
     "data": {
      "text/plain": [
       "array([3, 4, 5, 6, 7, 8], dtype=int64)"
      ]
     },
     "execution_count": 87,
     "metadata": {},
     "output_type": "execute_result"
    }
   ],
   "source": [
    "np.sort(red_wine_df['quality'].unique())"
   ]
  },
  {
   "cell_type": "code",
   "execution_count": 88,
   "id": "11ea9f67",
   "metadata": {},
   "outputs": [],
   "source": [
    "contagem_amostras_por_qualidade = pd.DataFrame({'Qualidade': np.sort(red_wine_df['quality'].unique()), 'Quantidade': red_wine_df.groupby('quality').size()})"
   ]
  },
  {
   "cell_type": "code",
   "execution_count": 89,
   "id": "530bdc72",
   "metadata": {},
   "outputs": [
    {
     "data": {
      "text/plain": [
       "quality\n",
       "3     10\n",
       "4     53\n",
       "5    681\n",
       "6    638\n",
       "7    199\n",
       "8     18\n",
       "Name: Quantidade, dtype: int64"
      ]
     },
     "execution_count": 89,
     "metadata": {},
     "output_type": "execute_result"
    }
   ],
   "source": [
    "contagem_amostras_por_qualidade['Quantidade']"
   ]
  },
  {
   "cell_type": "code",
   "execution_count": 90,
   "id": "96570b6e",
   "metadata": {},
   "outputs": [
    {
     "data": {
      "image/png": "[encoded data removed]",
      "text/plain": [
       "<Figure size 640x480 with 1 Axes>"
      ]
     },
     "metadata": {},
     "output_type": "display_data"
    }
   ],
   "source": [
    "colors = sns.color_palette('pastel')[0:6]\n",
    "\n",
    "plt.pie(contagem_amostras_por_qualidade['Quantidade'], labels = contagem_amostras_por_qualidade['Qualidade'],colors=colors, startangle=90, pctdistance = 1.05, autopct='%1.1f%%', radius=3, labeldistance = None)\n",
    "plt.legend(title = \"Qualidade\", loc=\"center right\", bbox_to_anchor=(1, 0, 1, 1))\n",
    "plt.show()"
   ]
  },
  {
   "cell_type": "code",
   "execution_count": 91,
   "id": "7d30fc0f",
   "metadata": {},
   "outputs": [
    {
     "data": {
      "image/png": "[encoded data removed]",
      "text/plain": [
       "<Figure size 640x480 with 1 Axes>"
      ]
     },
     "metadata": {},
     "output_type": "display_data"
    }
   ],
   "source": [
    "colors = sns.color_palette('pastel')[0:6]\n",
    "plt.rcParams.update({'font.size': 8})\n",
    "plt.pie(contagem_amostras_por_qualidade['Quantidade'], labels = contagem_amostras_por_qualidade['Qualidade'], colors=colors, startangle=90, shadow=True,explode=(0.1, 0.1, 0.1, 0.1, 0.1, 0.1), radius=1, labeldistance=1.1)\n",
    "plt.title('Quantidade de amostras por classificação de vinho')\n",
    "plt.show()"
   ]
  },
  {
   "cell_type": "markdown",
   "id": "93a8ced5",
   "metadata": {},
   "source": [
    "# Histograma de frequência"
   ]
  },
  {
   "cell_type": "code",
   "execution_count": 92,
   "id": "7137bd26",
   "metadata": {},
   "outputs": [
    {
     "data": {
      "image/png": "[encoded data removed]",
      "text/plain": [
       "<Figure size 640x480 with 1 Axes>"
      ]
     },
     "metadata": {},
     "output_type": "display_data"
    }
   ],
   "source": [
    "#sns.distplot(red_wine_df['alcohol'], kde=False, bins=10, hist_kws=dict(edgecolor=\"k\", linewidth=2)) #descontinuada\n",
    "\n",
    "sns.histplot(red_wine_df['alcohol'], kde=False, bins = 10)\n",
    "plt.xlabel('Intervalo')\n",
    "plt.ylabel('Frequência')\n",
    "plt.show()"
   ]
  },
  {
   "cell_type": "code",
   "execution_count": 93,
   "id": "95856e05",
   "metadata": {},
   "outputs": [
    {
     "data": {
      "image/png": "[encoded data removed]",
      "text/plain": [
       "<Figure size 640x480 with 1 Axes>"
      ]
     },
     "metadata": {},
     "output_type": "display_data"
    }
   ],
   "source": [
    "#sns.distplot(red_wine_df['alcohol'], kde=False, bins=25, hist_kws=dict(edgecolor=\"k\", linewidth=2)) # descontinada\n",
    "\n",
    "sns.histplot(red_wine_df['alcohol'], kde=False, bins = 25)\n",
    "plt.xlabel('Intervalo')\n",
    "plt.ylabel('Frequência')\n",
    "plt.show()"
   ]
  },
  {
   "cell_type": "code",
   "execution_count": 94,
   "id": "b8643f5b",
   "metadata": {},
   "outputs": [
    {
     "data": {
      "image/png": "[encoded data removed]",
      "text/plain": [
       "<Figure size 640x480 with 1 Axes>"
      ]
     },
     "metadata": {},
     "output_type": "display_data"
    }
   ],
   "source": [
    "sns.histplot(red_wine_df['alcohol'], kde=False, bins = 35)\n",
    "plt.xlabel('Intervalo')\n",
    "plt.ylabel('Frequência')\n",
    "plt.show()"
   ]
  },
  {
   "cell_type": "markdown",
   "id": "117a0d06",
   "metadata": {},
   "source": [
    "# Histograma de Frequência Relativa"
   ]
  },
  {
   "cell_type": "code",
   "execution_count": 95,
   "id": "d34ecb0a",
   "metadata": {},
   "outputs": [
    {
     "data": {
      "image/png": "[encoded data removed]",
      "text/plain": [
       "<Figure size 640x480 with 1 Axes>"
      ]
     },
     "metadata": {},
     "output_type": "display_data"
    }
   ],
   "source": [
    "sns.histplot(red_wine_df['alcohol'], kde=False, bins=30, stat='density')\n",
    "plt.xlabel('Intervalo')\n",
    "plt.ylabel('Frequencia Relativa')\n",
    "plt.show()"
   ]
  },
  {
   "cell_type": "markdown",
   "id": "345e712d",
   "metadata": {},
   "source": [
    "# Gráfico de Densidade"
   ]
  },
  {
   "cell_type": "code",
   "execution_count": 96,
   "id": "5ef99a36",
   "metadata": {},
   "outputs": [
    {
     "data": {
      "image/png": "[encoded data removed]",
      "text/plain": [
       "<Figure size 640x480 with 1 Axes>"
      ]
     },
     "metadata": {},
     "output_type": "display_data"
    }
   ],
   "source": [
    "sns.histplot(red_wine_df['alcohol'], kde=True, bins=15, stat ='percent', edgecolor = 'r', linewidth=2)\n",
    "plt.xticks(range(7, 16, 1))\n",
    "plt.ylabel('Densidade')\n",
    "plt.show()"
   ]
  },
  {
   "cell_type": "code",
   "execution_count": 97,
   "id": "538f4163",
   "metadata": {},
   "outputs": [
    {
     "data": {
      "image/png": "[encoded data removed]",
      "text/plain": [
       "<Figure size 640x480 with 1 Axes>"
      ]
     },
     "metadata": {},
     "output_type": "display_data"
    }
   ],
   "source": [
    "plt.axvline(red_wine_df['alcohol'].mean(), color='b', linestyle='dashed', linewidth=1)\n",
    "plt.axvline(red_wine_df['alcohol'].median(), color='r', linestyle='dashed', linewidth=4)\n",
    "sns.kdeplot(red_wine_df['alcohol'])\n",
    "plt.ylabel('Densidade')\n",
    "plt.show()"
   ]
  },
  {
   "cell_type": "code",
   "execution_count": 98,
   "id": "42a39123",
   "metadata": {},
   "outputs": [
    {
     "data": {
      "text/plain": [
       "10.2"
      ]
     },
     "execution_count": 98,
     "metadata": {},
     "output_type": "execute_result"
    }
   ],
   "source": [
    "np.median(red_wine_df['alcohol'])"
   ]
  },
  {
   "cell_type": "code",
   "execution_count": 99,
   "id": "4a05c898",
   "metadata": {},
   "outputs": [
    {
     "data": {
      "text/plain": [
       "10.422983114446529"
      ]
     },
     "execution_count": 99,
     "metadata": {},
     "output_type": "execute_result"
    }
   ],
   "source": [
    "np.mean(red_wine_df['alcohol'])"
   ]
  },
  {
   "cell_type": "code",
   "execution_count": 100,
   "id": "379d8f90",
   "metadata": {},
   "outputs": [
    {
     "data": {
      "image/png": "[encoded data removed]",
      "text/plain": [
       "<Figure size 640x480 with 1 Axes>"
      ]
     },
     "metadata": {},
     "output_type": "display_data"
    }
   ],
   "source": [
    "plt.axvline(red_wine_df['chlorides'].mean(), color='b', linestyle='dashed', linewidth=1)\n",
    "plt.axvline(red_wine_df['chlorides'].median(), color='r', linestyle='dashed', linewidth=4)\n",
    "sns.kdeplot(red_wine_df['chlorides'])\n",
    "plt.ylabel('Densidade')\n",
    "plt.show()"
   ]
  },
  {
   "cell_type": "markdown",
   "id": "d8cffa47",
   "metadata": {},
   "source": [
    "# Box Plot"
   ]
  },
  {
   "cell_type": "code",
   "execution_count": 101,
   "id": "1cac8710",
   "metadata": {},
   "outputs": [],
   "source": [
    "import pandas as pd\n",
    "import seaborn as sns\n",
    "import matplotlib.pyplot as plt"
   ]
  },
  {
   "cell_type": "code",
   "execution_count": 102,
   "id": "a8819701",
   "metadata": {},
   "outputs": [
    {
     "data": {
      "image/png": "[encoded data removed]",
      "text/plain": [
       "<Figure size 640x480 with 1 Axes>"
      ]
     },
     "metadata": {},
     "output_type": "display_data"
    }
   ],
   "source": [
    "sns.boxplot(data=red_wine_df['alcohol'])\n",
    "plt.xlabel('Álcool')\n",
    "plt.show()\n",
    "# Salvando grafico\n",
    "#plt.savefig('boxplot_medalhas.png')"
   ]
  },
  {
   "cell_type": "code",
   "execution_count": 103,
   "id": "76fe9723",
   "metadata": {},
   "outputs": [
    {
     "data": {
      "image/png": "[encoded data removed]",
      "text/plain": [
       "<Figure size 640x480 with 1 Axes>"
      ]
     },
     "metadata": {},
     "output_type": "display_data"
    }
   ],
   "source": [
    "sns.boxplot(data=red_wine_df['alcohol'], orient='h')\n",
    "plt.xlabel('Álcool')\n",
    "plt.show()\n"
   ]
  },
  {
   "cell_type": "code",
   "execution_count": 104,
   "id": "fa95f727",
   "metadata": {},
   "outputs": [
    {
     "data": {
      "image/png": "[encoded data removed]",
      "text/plain": [
       "<Figure size 640x480 with 1 Axes>"
      ]
     },
     "metadata": {},
     "output_type": "display_data"
    }
   ],
   "source": [
    "sns.boxplot(data=red_wine_df['alcohol'], orient='h', showfliers=False)\n",
    "plt.xlabel('Álcool')\n",
    "plt.show()\n"
   ]
  },
  {
   "cell_type": "code",
   "execution_count": 105,
   "id": "208ea6c5",
   "metadata": {},
   "outputs": [
    {
     "data": {
      "image/png": "[encoded data removed]",
      "text/plain": [
       "<Figure size 2500x1000 with 1 Axes>"
      ]
     },
     "metadata": {},
     "output_type": "display_data"
    }
   ],
   "source": [
    "plt.subplots(figsize=[25,10])\n",
    "sns.boxplot(data=red_wine_df, showfliers=True)\n",
    "plt.show()"
   ]
  },
  {
   "cell_type": "code",
   "execution_count": 106,
   "id": "6a33a363",
   "metadata": {},
   "outputs": [
    {
     "data": {
      "image/png": "[encoded data removed]",
      "text/plain": [
       "<Figure size 2500x1000 with 1 Axes>"
      ]
     },
     "metadata": {},
     "output_type": "display_data"
    }
   ],
   "source": [
    "plt.subplots(figsize=[25,10])\n",
    "sns.boxplot(data=red_wine_df, showfliers=False, orient='h')\n",
    "plt.show()"
   ]
  },
  {
   "cell_type": "markdown",
   "id": "682c3769",
   "metadata": {},
   "source": [
    "# Gráfico de Violino"
   ]
  },
  {
   "cell_type": "markdown",
   "id": "6e84c096",
   "metadata": {},
   "source": [
    "# Violin plot"
   ]
  },
  {
   "cell_type": "code",
   "execution_count": 107,
   "id": "1f51009a",
   "metadata": {},
   "outputs": [
    {
     "data": {
      "image/png": "[encoded data removed]",
      "text/plain": [
       "<Figure size 640x480 with 1 Axes>"
      ]
     },
     "metadata": {},
     "output_type": "display_data"
    }
   ],
   "source": [
    "sns.violinplot(data=red_wine_df['alcohol'], orient='v')\n",
    "plt.xlabel('Álcool')\n",
    "plt.show()\n",
    "# Seaborn Save Plot:\n",
    "#plt.savefig('saving-a-seaborn-plot-as-eps-file.eps')"
   ]
  },
  {
   "cell_type": "code",
   "execution_count": 108,
   "id": "abbeef84",
   "metadata": {},
   "outputs": [
    {
     "data": {
      "image/png": "[encoded data removed]",
      "text/plain": [
       "<Figure size 640x480 with 1 Axes>"
      ]
     },
     "metadata": {},
     "output_type": "display_data"
    }
   ],
   "source": [
    "sns.violinplot(data=red_wine_df['alcohol'], orient='h')\n",
    "plt.xlabel('Álcool')\n",
    "plt.show()\n",
    "# Seaborn Save Plot:\n",
    "#plt.savefig('saving-a-seaborn-plot-as-eps-file.eps')"
   ]
  },
  {
   "cell_type": "markdown",
   "id": "32db7ca3",
   "metadata": {},
   "source": [
    "# Usando Z-score"
   ]
  },
  {
   "cell_type": "code",
   "execution_count": 109,
   "id": "933804b0",
   "metadata": {},
   "outputs": [],
   "source": [
    "import scipy.stats\n",
    "import pandas as pd"
   ]
  },
  {
   "cell_type": "code",
   "execution_count": 110,
   "id": "1f21190c",
   "metadata": {},
   "outputs": [
    {
     "data": {
      "text/plain": [
       "0      -0.960246\n",
       "1      -0.584777\n",
       "2      -0.584777\n",
       "3      -0.584777\n",
       "4      -0.960246\n",
       "          ...   \n",
       "1594    0.072294\n",
       "1595    0.729364\n",
       "1596    0.541630\n",
       "1597   -0.209308\n",
       "1598    0.541630\n",
       "Name: alcohol, Length: 1599, dtype: float64"
      ]
     },
     "execution_count": 110,
     "metadata": {},
     "output_type": "execute_result"
    }
   ],
   "source": [
    "scipy.stats.zscore(red_wine_df['alcohol']) # Calculando Z-score"
   ]
  },
  {
   "cell_type": "code",
   "execution_count": 111,
   "id": "210aca51",
   "metadata": {},
   "outputs": [
    {
     "data": {
      "text/html": [
       "<div>\n",
       "<style scoped>\n",
       "    .dataframe tbody tr th:only-of-type {\n",
       "        vertical-align: middle;\n",
       "    }\n",
       "\n",
       "    .dataframe tbody tr th {\n",
       "        vertical-align: top;\n",
       "    }\n",
       "\n",
       "    .dataframe thead th {\n",
       "        text-align: right;\n",
       "    }\n",
       "</style>\n",
       "<table border=\"1\" class=\"dataframe\">\n",
       "  <thead>\n",
       "    <tr style=\"text-align: right;\">\n",
       "      <th></th>\n",
       "      <th>fixed acidity</th>\n",
       "      <th>volatile acidity</th>\n",
       "      <th>citric acid</th>\n",
       "      <th>residual sugar</th>\n",
       "      <th>chlorides</th>\n",
       "      <th>free sulfur dioxide</th>\n",
       "      <th>total sulfur dioxide</th>\n",
       "      <th>density</th>\n",
       "      <th>pH</th>\n",
       "      <th>sulphates</th>\n",
       "      <th>alcohol</th>\n",
       "      <th>quality</th>\n",
       "    </tr>\n",
       "  </thead>\n",
       "  <tbody>\n",
       "    <tr>\n",
       "      <th>142</th>\n",
       "      <td>5.2</td>\n",
       "      <td>0.34</td>\n",
       "      <td>0.00</td>\n",
       "      <td>1.8</td>\n",
       "      <td>0.050</td>\n",
       "      <td>27.0</td>\n",
       "      <td>63.0</td>\n",
       "      <td>0.99160</td>\n",
       "      <td>3.68</td>\n",
       "      <td>0.79</td>\n",
       "      <td>14.0</td>\n",
       "      <td>6</td>\n",
       "    </tr>\n",
       "    <tr>\n",
       "      <th>144</th>\n",
       "      <td>5.2</td>\n",
       "      <td>0.34</td>\n",
       "      <td>0.00</td>\n",
       "      <td>1.8</td>\n",
       "      <td>0.050</td>\n",
       "      <td>27.0</td>\n",
       "      <td>63.0</td>\n",
       "      <td>0.99160</td>\n",
       "      <td>3.68</td>\n",
       "      <td>0.79</td>\n",
       "      <td>14.0</td>\n",
       "      <td>6</td>\n",
       "    </tr>\n",
       "    <tr>\n",
       "      <th>467</th>\n",
       "      <td>8.8</td>\n",
       "      <td>0.46</td>\n",
       "      <td>0.45</td>\n",
       "      <td>2.6</td>\n",
       "      <td>0.065</td>\n",
       "      <td>7.0</td>\n",
       "      <td>18.0</td>\n",
       "      <td>0.99470</td>\n",
       "      <td>3.32</td>\n",
       "      <td>0.79</td>\n",
       "      <td>14.0</td>\n",
       "      <td>6</td>\n",
       "    </tr>\n",
       "    <tr>\n",
       "      <th>588</th>\n",
       "      <td>5.0</td>\n",
       "      <td>0.42</td>\n",
       "      <td>0.24</td>\n",
       "      <td>2.0</td>\n",
       "      <td>0.060</td>\n",
       "      <td>19.0</td>\n",
       "      <td>50.0</td>\n",
       "      <td>0.99170</td>\n",
       "      <td>3.72</td>\n",
       "      <td>0.74</td>\n",
       "      <td>14.0</td>\n",
       "      <td>8</td>\n",
       "    </tr>\n",
       "    <tr>\n",
       "      <th>652</th>\n",
       "      <td>15.9</td>\n",
       "      <td>0.36</td>\n",
       "      <td>0.65</td>\n",
       "      <td>7.5</td>\n",
       "      <td>0.096</td>\n",
       "      <td>22.0</td>\n",
       "      <td>71.0</td>\n",
       "      <td>0.99760</td>\n",
       "      <td>2.98</td>\n",
       "      <td>0.84</td>\n",
       "      <td>14.9</td>\n",
       "      <td>5</td>\n",
       "    </tr>\n",
       "    <tr>\n",
       "      <th>821</th>\n",
       "      <td>4.9</td>\n",
       "      <td>0.42</td>\n",
       "      <td>0.00</td>\n",
       "      <td>2.1</td>\n",
       "      <td>0.048</td>\n",
       "      <td>16.0</td>\n",
       "      <td>42.0</td>\n",
       "      <td>0.99154</td>\n",
       "      <td>3.71</td>\n",
       "      <td>0.74</td>\n",
       "      <td>14.0</td>\n",
       "      <td>7</td>\n",
       "    </tr>\n",
       "    <tr>\n",
       "      <th>1269</th>\n",
       "      <td>5.5</td>\n",
       "      <td>0.49</td>\n",
       "      <td>0.03</td>\n",
       "      <td>1.8</td>\n",
       "      <td>0.044</td>\n",
       "      <td>28.0</td>\n",
       "      <td>87.0</td>\n",
       "      <td>0.99080</td>\n",
       "      <td>3.50</td>\n",
       "      <td>0.82</td>\n",
       "      <td>14.0</td>\n",
       "      <td>8</td>\n",
       "    </tr>\n",
       "    <tr>\n",
       "      <th>1270</th>\n",
       "      <td>5.0</td>\n",
       "      <td>0.38</td>\n",
       "      <td>0.01</td>\n",
       "      <td>1.6</td>\n",
       "      <td>0.048</td>\n",
       "      <td>26.0</td>\n",
       "      <td>60.0</td>\n",
       "      <td>0.99084</td>\n",
       "      <td>3.70</td>\n",
       "      <td>0.75</td>\n",
       "      <td>14.0</td>\n",
       "      <td>6</td>\n",
       "    </tr>\n",
       "  </tbody>\n",
       "</table>\n",
       "</div>"
      ],
      "text/plain": [
       "      fixed acidity  volatile acidity  citric acid  residual sugar  chlorides  \\\n",
       "142             5.2              0.34         0.00             1.8      0.050   \n",
       "144             5.2              0.34         0.00             1.8      0.050   \n",
       "467             8.8              0.46         0.45             2.6      0.065   \n",
       "588             5.0              0.42         0.24             2.0      0.060   \n",
       "652            15.9              0.36         0.65             7.5      0.096   \n",
       "821             4.9              0.42         0.00             2.1      0.048   \n",
       "1269            5.5              0.49         0.03             1.8      0.044   \n",
       "1270            5.0              0.38         0.01             1.6      0.048   \n",
       "\n",
       "      free sulfur dioxide  total sulfur dioxide  density    pH  sulphates  \\\n",
       "142                  27.0                  63.0  0.99160  3.68       0.79   \n",
       "144                  27.0                  63.0  0.99160  3.68       0.79   \n",
       "467                   7.0                  18.0  0.99470  3.32       0.79   \n",
       "588                  19.0                  50.0  0.99170  3.72       0.74   \n",
       "652                  22.0                  71.0  0.99760  2.98       0.84   \n",
       "821                  16.0                  42.0  0.99154  3.71       0.74   \n",
       "1269                 28.0                  87.0  0.99080  3.50       0.82   \n",
       "1270                 26.0                  60.0  0.99084  3.70       0.75   \n",
       "\n",
       "      alcohol  quality  \n",
       "142      14.0        6  \n",
       "144      14.0        6  \n",
       "467      14.0        6  \n",
       "588      14.0        8  \n",
       "652      14.9        5  \n",
       "821      14.0        7  \n",
       "1269     14.0        8  \n",
       "1270     14.0        6  "
      ]
     },
     "execution_count": 111,
     "metadata": {},
     "output_type": "execute_result"
    }
   ],
   "source": [
    "z_score_alcohol = np.abs(scipy.stats.zscore(red_wine_df['alcohol'])) # Lista valores com z-score elevado, considerando o módulo.\n",
    "red_wine_df.iloc[np.where(z_score_alcohol>3)]"
   ]
  },
  {
   "cell_type": "code",
   "execution_count": 112,
   "id": "40ef6a13",
   "metadata": {},
   "outputs": [],
   "source": [
    "red_wine_df_alcohol_no_outliers = red_wine_df.iloc[np.where(z_score_alcohol<=3)]"
   ]
  },
  {
   "cell_type": "code",
   "execution_count": 113,
   "id": "fdb9119a",
   "metadata": {},
   "outputs": [
    {
     "data": {
      "image/png": "[encoded data removed]",
      "text/plain": [
       "<Figure size 640x480 with 1 Axes>"
      ]
     },
     "metadata": {},
     "output_type": "display_data"
    }
   ],
   "source": [
    "sns.boxplot(data=red_wine_df_alcohol_no_outliers['alcohol'], orient='h')\n",
    "plt.xlabel('Álcool')\n",
    "plt.show()"
   ]
  },
  {
   "cell_type": "markdown",
   "id": "6fc4c056",
   "metadata": {},
   "source": [
    "# Z-score modificado"
   ]
  },
  {
   "cell_type": "code",
   "execution_count": 114,
   "id": "d45a8346",
   "metadata": {},
   "outputs": [],
   "source": [
    "def z_score_modificado(dados):\n",
    "    \n",
    "    mediana_dados = np.median(dados)\n",
    "    \n",
    "    # Median Absolute Deviation \n",
    "    mad = np.median(dados.map(lambda x: np.abs(x - mediana_dados)))\n",
    "    \n",
    "    # Z-score modificado\n",
    "    z_score_modificado = list(dados.map(lambda x: 0.6745* (x - mediana_dados)/mad))\n",
    "    return z_score_modificado"
   ]
  },
  {
   "cell_type": "code",
   "execution_count": 115,
   "id": "e3a31590",
   "metadata": {},
   "outputs": [
    {
     "data": {
      "text/plain": [
       "[-0.7708571428571407,\n",
       " -0.38542857142856946,\n",
       " -0.38542857142856946,\n",
       " -0.38542857142856946,\n",
       " -0.7708571428571407,\n",
       " -0.7708571428571407,\n",
       " -0.7708571428571407,\n",
       " -0.19271428571428473,\n",
       " -0.6744999999999983,\n",
       " 0.2890714285714288,\n",
       " -0.9635714285714271,\n",
       " 0.2890714285714288,\n",
       " -0.2890714285714271,\n",
       " -1.0599285714285696,\n",
       " -0.9635714285714271,\n",
       " -0.9635714285714271,\n",
       " 0.2890714285714288,\n",
       " -0.8672142857142829,\n",
       " -1.1562857142857117,\n",
       " -0.9635714285714271,\n",
       " -0.7708571428571407,\n",
       " -0.48178571428571354,\n",
       " -0.6744999999999983,\n",
       " -0.7708571428571407,\n",
       " -0.48178571428571354,\n",
       " -0.8672142857142829,\n",
       " -0.6744999999999983,\n",
       " -0.6744999999999983,\n",
       " -0.7708571428571407,\n",
       " -0.38542857142856946,\n",
       " -0.09635714285714236,\n",
       " 0.38542857142857123,\n",
       " -0.38542857142856946,\n",
       " -0.7708571428571407,\n",
       " -0.9635714285714271,\n",
       " -0.5781428571428558,\n",
       " 0.5781428571428576,\n",
       " -0.48178571428571354,\n",
       " -0.38542857142856946,\n",
       " 0.2890714285714288,\n",
       " 0.2890714285714288,\n",
       " -0.8672142857142829,\n",
       " 0.2890714285714288,\n",
       " 0.09635714285714407,\n",
       " -0.6744999999999983,\n",
       " 2.794357142857139,\n",
       " -0.9635714285714271,\n",
       " -0.6744999999999983,\n",
       " -0.9635714285714271,\n",
       " -0.9635714285714271,\n",
       " -0.9635714285714271,\n",
       " -0.7708571428571407,\n",
       " -0.7708571428571407,\n",
       " -0.7708571428571407,\n",
       " 0.0,\n",
       " -0.6744999999999983,\n",
       " -0.5781428571428558,\n",
       " -0.7708571428571407,\n",
       " -0.19271428571428473,\n",
       " -0.7708571428571407,\n",
       " -0.9635714285714271,\n",
       " -0.8672142857142829,\n",
       " -0.6744999999999983,\n",
       " -0.38542857142856946,\n",
       " 0.6745,\n",
       " 0.6745,\n",
       " -0.5781428571428558,\n",
       " 0.48178571428571354,\n",
       " 0.48178571428571354,\n",
       " 0.2890714285714288,\n",
       " -0.6744999999999983,\n",
       " -0.6744999999999983,\n",
       " -0.6744999999999983,\n",
       " -0.9635714285714271,\n",
       " -0.5781428571428558,\n",
       " 0.2890714285714288,\n",
       " 0.2890714285714288,\n",
       " 0.48178571428571354,\n",
       " -0.09635714285714236,\n",
       " -1.0599285714285696,\n",
       " -0.9635714285714271,\n",
       " -0.7708571428571407,\n",
       " -1.0599285714285696,\n",
       " -0.7708571428571407,\n",
       " 0.09635714285714407,\n",
       " -0.09635714285714236,\n",
       " -0.2890714285714271,\n",
       " -0.5781428571428558,\n",
       " -0.6744999999999983,\n",
       " -1.1562857142857117,\n",
       " -0.6744999999999983,\n",
       " -0.2890714285714271,\n",
       " -0.38542857142856946,\n",
       " -0.5781428571428558,\n",
       " 0.2890714285714288,\n",
       " 2.601642857142854,\n",
       " 0.48178571428571354,\n",
       " -0.9635714285714271,\n",
       " -0.38542857142856946,\n",
       " -1.1562857142857117,\n",
       " 0.0,\n",
       " 0.19271428571428645,\n",
       " -1.1562857142857117,\n",
       " -0.9635714285714271,\n",
       " -0.7708571428571407,\n",
       " -0.9635714285714271,\n",
       " -0.8672142857142829,\n",
       " -0.8672142857142829,\n",
       " -0.5781428571428558,\n",
       " -0.8672142857142829,\n",
       " -0.6744999999999983,\n",
       " -0.38542857142856946,\n",
       " -0.38542857142856946,\n",
       " -0.48178571428571354,\n",
       " -0.6744999999999983,\n",
       " 0.2890714285714288,\n",
       " -0.19271428571428473,\n",
       " -0.7708571428571407,\n",
       " 0.6745,\n",
       " -0.9635714285714271,\n",
       " -1.1562857142857117,\n",
       " 0.6745,\n",
       " -0.9635714285714271,\n",
       " -0.6744999999999983,\n",
       " -0.6744999999999983,\n",
       " -0.7708571428571407,\n",
       " 0.6745,\n",
       " 0.6745,\n",
       " 0.2890714285714288,\n",
       " -0.7708571428571407,\n",
       " -0.7708571428571407,\n",
       " 2.6979999999999964,\n",
       " 2.6979999999999964,\n",
       " -0.38542857142856946,\n",
       " -0.2890714285714271,\n",
       " -0.5781428571428558,\n",
       " -0.6744999999999983,\n",
       " -0.9635714285714271,\n",
       " -0.6744999999999983,\n",
       " -0.6744999999999983,\n",
       " -0.5781428571428558,\n",
       " -0.6744999999999983,\n",
       " 3.6615714285714236,\n",
       " -0.7708571428571407,\n",
       " 3.6615714285714236,\n",
       " -0.7708571428571407,\n",
       " -0.19271428571428473,\n",
       " -0.8672142857142829,\n",
       " 0.0,\n",
       " 0.2890714285714288,\n",
       " 0.09635714285714407,\n",
       " -0.7708571428571407,\n",
       " -0.09635714285714236,\n",
       " -0.09635714285714236,\n",
       " 0.2890714285714288,\n",
       " 0.2890714285714288,\n",
       " 0.2890714285714288,\n",
       " 0.2890714285714288,\n",
       " -0.8672142857142829,\n",
       " -0.8672142857142829,\n",
       " -0.5781428571428558,\n",
       " -0.9635714285714271,\n",
       " -0.19271428571428473,\n",
       " -0.7708571428571407,\n",
       " -0.7708571428571407,\n",
       " -0.6744999999999983,\n",
       " 0.0,\n",
       " -1.1562857142857117,\n",
       " 0.19271428571428645,\n",
       " -0.6744999999999983,\n",
       " -1.0599285714285696,\n",
       " -0.9635714285714271,\n",
       " -0.9635714285714271,\n",
       " 1.2526428571428558,\n",
       " -0.6744999999999983,\n",
       " -0.6744999999999983,\n",
       " -0.6744999999999983,\n",
       " 0.2890714285714288,\n",
       " -0.5781428571428558,\n",
       " -0.6744999999999983,\n",
       " -0.6744999999999983,\n",
       " -0.8672142857142829,\n",
       " -0.8672142857142829,\n",
       " -0.8672142857142829,\n",
       " -0.8672142857142829,\n",
       " -0.48178571428571354,\n",
       " -0.9635714285714271,\n",
       " -0.48178571428571354,\n",
       " -0.6744999999999983,\n",
       " -0.6744999999999983,\n",
       " -0.7708571428571407,\n",
       " -0.38542857142856946,\n",
       " -0.6744999999999983,\n",
       " -0.48178571428571354,\n",
       " -0.48178571428571354,\n",
       " -0.7708571428571407,\n",
       " 0.0,\n",
       " -0.09635714285714236,\n",
       " 2.6979999999999964,\n",
       " 1.1562857142857135,\n",
       " 0.09635714285714407,\n",
       " -0.8672142857142829,\n",
       " -0.6744999999999983,\n",
       " -0.9635714285714271,\n",
       " -0.9635714285714271,\n",
       " 0.5781428571428576,\n",
       " 0.5781428571428576,\n",
       " -0.8672142857142829,\n",
       " -0.7708571428571407,\n",
       " 0.2890714285714288,\n",
       " 2.1198571428571404,\n",
       " -0.19271428571428473,\n",
       " 0.0,\n",
       " -0.09635714285714236,\n",
       " -0.38542857142856946,\n",
       " 0.2890714285714288,\n",
       " 0.7708571428571425,\n",
       " -1.0599285714285696,\n",
       " -0.48178571428571354,\n",
       " -0.6744999999999983,\n",
       " -0.7708571428571407,\n",
       " -0.7708571428571407,\n",
       " -0.6744999999999983,\n",
       " -0.19271428571428473,\n",
       " 0.19271428571428645,\n",
       " 0.2890714285714288,\n",
       " -0.6744999999999983,\n",
       " -0.38542857142856946,\n",
       " 0.2890714285714288,\n",
       " 0.7708571428571425,\n",
       " 1.9271428571428542,\n",
       " -0.2890714285714271,\n",
       " -0.5781428571428558,\n",
       " 0.7708571428571425,\n",
       " -1.1562857142857117,\n",
       " -1.1562857142857117,\n",
       " -1.1562857142857117,\n",
       " -0.9635714285714271,\n",
       " -1.1562857142857117,\n",
       " -1.1562857142857117,\n",
       " -0.8672142857142829,\n",
       " 0.6745,\n",
       " -0.38542857142856946,\n",
       " -0.9635714285714271,\n",
       " -0.9635714285714271,\n",
       " -0.2890714285714271,\n",
       " -0.6744999999999983,\n",
       " -0.8672142857142829,\n",
       " -0.38542857142856946,\n",
       " -0.2890714285714271,\n",
       " -0.19271428571428473,\n",
       " -0.2890714285714271,\n",
       " 0.2890714285714288,\n",
       " -0.6744999999999983,\n",
       " -0.2890714285714271,\n",
       " -0.8672142857142829,\n",
       " -0.9635714285714271,\n",
       " -0.9635714285714271,\n",
       " -0.7708571428571407,\n",
       " 0.2890714285714288,\n",
       " -0.8672142857142829,\n",
       " -0.7708571428571407,\n",
       " -0.19271428571428473,\n",
       " -0.8672142857142829,\n",
       " 0.6745,\n",
       " 0.0,\n",
       " -0.38542857142856946,\n",
       " 2.5052857142857117,\n",
       " -0.7708571428571407,\n",
       " -0.09635714285714236,\n",
       " 0.48178571428571354,\n",
       " -0.09635714285714236,\n",
       " -0.09635714285714236,\n",
       " -0.7708571428571407,\n",
       " -0.7708571428571407,\n",
       " 0.48178571428571354,\n",
       " -0.7708571428571407,\n",
       " -0.09635714285714236,\n",
       " 2.312571428571425,\n",
       " 0.2890714285714288,\n",
       " -0.8672142857142829,\n",
       " -0.2890714285714271,\n",
       " -1.0599285714285696,\n",
       " 0.2890714285714288,\n",
       " -0.38542857142856946,\n",
       " -0.38542857142856946,\n",
       " 0.09635714285714407,\n",
       " 0.09635714285714407,\n",
       " 0.38542857142857123,\n",
       " -0.9635714285714271,\n",
       " 0.38542857142857123,\n",
       " 0.2890714285714288,\n",
       " 0.09635714285714407,\n",
       " -0.09635714285714236,\n",
       " -0.6744999999999983,\n",
       " -0.6744999999999983,\n",
       " -0.2890714285714271,\n",
       " -0.5781428571428558,\n",
       " -0.48178571428571354,\n",
       " -0.5781428571428558,\n",
       " 0.48178571428571354,\n",
       " -0.09635714285714236,\n",
       " -0.19271428571428473,\n",
       " -0.6744999999999983,\n",
       " -0.9635714285714271,\n",
       " -0.8672142857142829,\n",
       " -0.7708571428571407,\n",
       " -0.6744999999999983,\n",
       " -0.6744999999999983,\n",
       " -0.6744999999999983,\n",
       " -0.8672142857142829,\n",
       " -0.7708571428571407,\n",
       " -0.6744999999999983,\n",
       " -0.7708571428571407,\n",
       " 0.7708571428571425,\n",
       " 0.7708571428571425,\n",
       " -0.09635714285714236,\n",
       " 0.19271428571428645,\n",
       " 1.2526428571428558,\n",
       " 0.19271428571428645,\n",
       " 1.2526428571428558,\n",
       " -0.48178571428571354,\n",
       " -0.8672142857142829,\n",
       " -0.6744999999999983,\n",
       " -0.9635714285714271,\n",
       " -0.9635714285714271,\n",
       " 1.2526428571428558,\n",
       " 1.2526428571428558,\n",
       " -0.48178571428571354,\n",
       " -0.6744999999999983,\n",
       " 2.216214285714283,\n",
       " 2.216214285714283,\n",
       " -0.7708571428571407,\n",
       " 0.7708571428571425,\n",
       " 1.4453571428571406,\n",
       " 1.9271428571428542,\n",
       " 2.216214285714283,\n",
       " 0.09635714285714407,\n",
       " 1.2526428571428558,\n",
       " -0.38542857142856946,\n",
       " -0.9635714285714271,\n",
       " 1.0599285714285713,\n",
       " -0.38542857142856946,\n",
       " -0.38542857142856946,\n",
       " 0.48178571428571354,\n",
       " -0.2890714285714271,\n",
       " 2.023499999999998,\n",
       " 1.7344285714285694,\n",
       " -0.19271428571428473,\n",
       " -0.7708571428571407,\n",
       " -0.2890714285714271,\n",
       " -0.7708571428571407,\n",
       " -0.8672142857142829,\n",
       " 2.6979999999999964,\n",
       " 1.6380714285714268,\n",
       " 2.5052857142857117,\n",
       " 0.7708571428571425,\n",
       " 1.4453571428571406,\n",
       " 0.19271428571428645,\n",
       " -0.38542857142856946,\n",
       " -0.7708571428571407,\n",
       " -0.2890714285714271,\n",
       " -0.19271428571428473,\n",
       " 0.0,\n",
       " -0.19271428571428473,\n",
       " 1.541714285714285,\n",
       " -0.19271428571428473,\n",
       " -1.1562857142857117,\n",
       " -0.7708571428571407,\n",
       " 1.7344285714285694,\n",
       " -0.2890714285714271,\n",
       " -1.4453571428571406,\n",
       " 0.38542857142857123,\n",
       " -0.9635714285714271,\n",
       " 0.5781428571428576,\n",
       " 1.541714285714285,\n",
       " 0.7708571428571425,\n",
       " 1.7344285714285694,\n",
       " 2.9870714285714253,\n",
       " 0.5781428571428576,\n",
       " -0.7708571428571407,\n",
       " -0.19271428571428473,\n",
       " -0.7708571428571407,\n",
       " -0.7708571428571407,\n",
       " -0.9635714285714271,\n",
       " -0.48178571428571354,\n",
       " -0.9635714285714271,\n",
       " -0.5781428571428558,\n",
       " -0.9635714285714271,\n",
       " -0.19271428571428473,\n",
       " 2.601642857142854,\n",
       " -0.19271428571428473,\n",
       " -0.6744999999999983,\n",
       " -1.0599285714285696,\n",
       " -0.2890714285714271,\n",
       " 2.6979999999999964,\n",
       " -0.2890714285714271,\n",
       " 0.7708571428571425,\n",
       " 0.7708571428571425,\n",
       " -0.7708571428571407,\n",
       " -0.2890714285714271,\n",
       " 0.5781428571428576,\n",
       " 0.2890714285714288,\n",
       " 0.2890714285714288,\n",
       " -1.0599285714285696,\n",
       " -0.09635714285714236,\n",
       " 0.5781428571428576,\n",
       " 0.5781428571428576,\n",
       " 1.0599285714285713,\n",
       " -0.5781428571428558,\n",
       " -0.6744999999999983,\n",
       " -0.6744999999999983,\n",
       " -0.8672142857142829,\n",
       " 1.4453571428571406,\n",
       " -0.6744999999999983,\n",
       " -0.8672142857142829,\n",
       " 1.4453571428571406,\n",
       " 0.2890714285714288,\n",
       " 0.19271428571428645,\n",
       " -0.2890714285714271,\n",
       " 1.541714285714285,\n",
       " 2.023499999999998,\n",
       " 0.6745,\n",
       " 0.7708571428571425,\n",
       " 0.6745,\n",
       " 2.023499999999998,\n",
       " 1.1562857142857135,\n",
       " 0.38542857142857123,\n",
       " -0.8672142857142829,\n",
       " 0.19271428571428645,\n",
       " 0.7708571428571425,\n",
       " -0.9635714285714271,\n",
       " 2.5052857142857117,\n",
       " -0.6744999999999983,\n",
       " -0.2890714285714271,\n",
       " -0.6744999999999983,\n",
       " 0.0,\n",
       " 0.9635714285714271,\n",
       " -0.2890714285714271,\n",
       " -0.8672142857142829,\n",
       " -0.38542857142856946,\n",
       " 1.0599285714285713,\n",
       " 0.9635714285714271,\n",
       " 1.3489999999999982,\n",
       " 2.216214285714283,\n",
       " -0.09635714285714236,\n",
       " 0.2890714285714288,\n",
       " 0.9635714285714271,\n",
       " 0.0,\n",
       " 0.5781428571428576,\n",
       " 0.5781428571428576,\n",
       " -1.0599285714285696,\n",
       " -0.19271428571428473,\n",
       " 0.9635714285714271,\n",
       " 0.8672142857142847,\n",
       " 3.0834285714285676,\n",
       " 0.09635714285714407,\n",
       " -0.5781428571428558,\n",
       " 0.9635714285714271,\n",
       " -1.1562857142857117,\n",
       " 1.0599285714285713,\n",
       " -0.8672142857142829,\n",
       " 1.541714285714285,\n",
       " -1.1562857142857117,\n",
       " -0.9635714285714271,\n",
       " -0.48178571428571354,\n",
       " 1.2526428571428558,\n",
       " 3.6615714285714236,\n",
       " -0.9635714285714271,\n",
       " -0.38542857142856946,\n",
       " 0.38542857142857123,\n",
       " 1.1562857142857135,\n",
       " 0.19271428571428645,\n",
       " 0.38542857142857123,\n",
       " -0.7708571428571407,\n",
       " 0.0,\n",
       " -0.48178571428571354,\n",
       " 0.7708571428571425,\n",
       " 0.0,\n",
       " -0.09635714285714236,\n",
       " -0.9635714285714271,\n",
       " 1.4453571428571406,\n",
       " -0.7708571428571407,\n",
       " -0.7708571428571407,\n",
       " 3.0834285714285676,\n",
       " -0.19271428571428473,\n",
       " -0.19271428571428473,\n",
       " -0.19271428571428473,\n",
       " 0.5781428571428576,\n",
       " 0.0,\n",
       " 0.38542857142857123,\n",
       " 2.9870714285714253,\n",
       " 3.0834285714285676,\n",
       " 1.3489999999999982,\n",
       " 1.8307857142857118,\n",
       " 0.7708571428571425,\n",
       " -1.1562857142857117,\n",
       " 0.8672142857142847,\n",
       " 0.7708571428571425,\n",
       " 1.3489999999999982,\n",
       " -1.1562857142857117,\n",
       " 1.7344285714285694,\n",
       " 1.7344285714285694,\n",
       " 0.6745,\n",
       " 0.5781428571428576,\n",
       " 2.216214285714283,\n",
       " 0.5781428571428576,\n",
       " -0.6744999999999983,\n",
       " 0.0,\n",
       " 1.1562857142857135,\n",
       " -0.6744999999999983,\n",
       " 0.0,\n",
       " -0.48178571428571354,\n",
       " 1.541714285714285,\n",
       " 1.541714285714285,\n",
       " -0.8672142857142829,\n",
       " 1.6380714285714268,\n",
       " -1.7344285714285679,\n",
       " 1.4453571428571406,\n",
       " 0.7708571428571425,\n",
       " -0.19271428571428473,\n",
       " -1.0599285714285696,\n",
       " -0.38542857142856946,\n",
       " -0.7708571428571407,\n",
       " -0.6744999999999983,\n",
       " -0.2890714285714271,\n",
       " 0.7708571428571425,\n",
       " 1.1562857142857135,\n",
       " -1.4453571428571406,\n",
       " -0.7708571428571407,\n",
       " 0.09635714285714407,\n",
       " 0.09635714285714407,\n",
       " 0.09635714285714407,\n",
       " 2.5052857142857117,\n",
       " -0.19271428571428473,\n",
       " 0.09635714285714407,\n",
       " -0.7708571428571407,\n",
       " 0.48178571428571354,\n",
       " 1.7344285714285694,\n",
       " 0.9635714285714271,\n",
       " -0.5781428571428558,\n",
       " 0.7708571428571425,\n",
       " -0.2890714285714271,\n",
       " 0.7708571428571425,\n",
       " -1.7344285714285679,\n",
       " -1.0599285714285696,\n",
       " -0.6744999999999983,\n",
       " 0.48178571428571354,\n",
       " 0.19271428571428645,\n",
       " -0.7708571428571407,\n",
       " -0.6744999999999983,\n",
       " -0.19271428571428473,\n",
       " -0.19271428571428473,\n",
       " 1.2526428571428558,\n",
       " 0.8672142857142847,\n",
       " 0.8672142857142847,\n",
       " 1.4453571428571406,\n",
       " 0.8672142857142847,\n",
       " 1.4453571428571406,\n",
       " 2.408928571428568,\n",
       " 1.1562857142857135,\n",
       " -0.9635714285714271,\n",
       " -0.9635714285714271,\n",
       " -0.09635714285714236,\n",
       " 2.408928571428568,\n",
       " 1.1562857142857135,\n",
       " -1.1562857142857117,\n",
       " -1.1562857142857117,\n",
       " 0.48178571428571354,\n",
       " 1.4453571428571406,\n",
       " 0.7708571428571425,\n",
       " 1.4453571428571406,\n",
       " 0.19271428571428645,\n",
       " -0.5781428571428558,\n",
       " -0.19271428571428473,\n",
       " 0.0,\n",
       " -0.19271428571428473,\n",
       " -0.6744999999999983,\n",
       " -0.38542857142856946,\n",
       " -0.38542857142856946,\n",
       " -0.5781428571428558,\n",
       " -0.5781428571428558,\n",
       " -0.9635714285714271,\n",
       " -0.2890714285714271,\n",
       " 0.48178571428571354,\n",
       " -0.5781428571428558,\n",
       " 0.38542857142857123,\n",
       " -0.8672142857142829,\n",
       " 3.6615714285714236,\n",
       " 0.2890714285714288,\n",
       " -0.48178571428571354,\n",
       " 1.2526428571428558,\n",
       " -0.48178571428571354,\n",
       " -1.1562857142857117,\n",
       " -0.6744999999999983,\n",
       " -0.8672142857142829,\n",
       " -0.8672142857142829,\n",
       " -0.19271428571428473,\n",
       " -0.38542857142856946,\n",
       " -0.8672142857142829,\n",
       " -0.19271428571428473,\n",
       " -1.1562857142857117,\n",
       " -0.8672142857142829,\n",
       " -1.1562857142857117,\n",
       " -1.0599285714285696,\n",
       " -0.9635714285714271,\n",
       " 1.9271428571428542,\n",
       " 0.2890714285714288,\n",
       " 0.19271428571428645,\n",
       " 2.408928571428568,\n",
       " -0.9635714285714271,\n",
       " -0.7708571428571407,\n",
       " -0.19271428571428473,\n",
       " -0.38542857142856946,\n",
       " 0.0,\n",
       " -0.48178571428571354,\n",
       " -0.48178571428571354,\n",
       " -0.38542857142856946,\n",
       " 0.0,\n",
       " -0.8672142857142829,\n",
       " -0.7708571428571407,\n",
       " -0.7708571428571407,\n",
       " -0.6744999999999983,\n",
       " 1.8307857142857118,\n",
       " 0.0,\n",
       " 0.0,\n",
       " -1.0599285714285696,\n",
       " -1.0599285714285696,\n",
       " -0.8672142857142829,\n",
       " -0.8672142857142829,\n",
       " -0.8672142857142829,\n",
       " -0.6744999999999983,\n",
       " 0.2890714285714288,\n",
       " 1.0599285714285713,\n",
       " -0.6744999999999983,\n",
       " -0.48178571428571354,\n",
       " -0.7708571428571407,\n",
       " -0.7708571428571407,\n",
       " 0.0,\n",
       " 0.09635714285714407,\n",
       " -0.7708571428571407,\n",
       " -0.6744999999999983,\n",
       " -0.7708571428571407,\n",
       " -0.6744999999999983,\n",
       " -0.7708571428571407,\n",
       " -0.09635714285714236,\n",
       " -0.09635714285714236,\n",
       " 0.7708571428571425,\n",
       " 0.9635714285714271,\n",
       " 1.0599285714285713,\n",
       " -0.5781428571428558,\n",
       " 0.9635714285714271,\n",
       " 4.528785714285708,\n",
       " 1.7344285714285694,\n",
       " -0.6744999999999983,\n",
       " -0.7708571428571407,\n",
       " -0.5781428571428558,\n",
       " 0.2890714285714288,\n",
       " -0.5781428571428558,\n",
       " 0.7708571428571425,\n",
       " -0.5781428571428558,\n",
       " -1.1562857142857117,\n",
       " -0.5781428571428558,\n",
       " 0.0,\n",
       " 0.0,\n",
       " -0.48178571428571354,\n",
       " -0.6744999999999983,\n",
       " -0.9635714285714271,\n",
       " 0.7708571428571425,\n",
       " -0.9635714285714271,\n",
       " -0.19271428571428473,\n",
       " -0.6744999999999983,\n",
       " -0.6744999999999983,\n",
       " -0.6744999999999983,\n",
       " -0.8672142857142829,\n",
       " 0.0,\n",
       " -0.8672142857142829,\n",
       " -0.2890714285714271,\n",
       " -0.19271428571428473,\n",
       " -0.5781428571428558,\n",
       " -1.1562857142857117,\n",
       " 0.0,\n",
       " -0.38542857142856946,\n",
       " 1.0599285714285713,\n",
       " -0.7708571428571407,\n",
       " 1.0599285714285713,\n",
       " -1.0599285714285696,\n",
       " -0.48178571428571354,\n",
       " -0.7708571428571407,\n",
       " -0.7708571428571407,\n",
       " 0.48178571428571354,\n",
       " -0.38542857142856946,\n",
       " -1.1562857142857117,\n",
       " -0.7708571428571407,\n",
       " -0.7708571428571407,\n",
       " 2.5052857142857117,\n",
       " -0.6744999999999983,\n",
       " -0.6744999999999983,\n",
       " -0.48178571428571354,\n",
       " 0.5781428571428576,\n",
       " -0.09635714285714236,\n",
       " -0.6744999999999983,\n",
       " -0.7708571428571407,\n",
       " -0.5781428571428558,\n",
       " -0.48178571428571354,\n",
       " -0.2890714285714271,\n",
       " -0.19271428571428473,\n",
       " 0.2890714285714288,\n",
       " 1.3489999999999982,\n",
       " -0.19271428571428473,\n",
       " -0.09635714285714236,\n",
       " -0.6744999999999983,\n",
       " -0.7708571428571407,\n",
       " -0.7708571428571407,\n",
       " -0.38542857142856946,\n",
       " -0.9635714285714271,\n",
       " -0.7708571428571407,\n",
       " -0.19271428571428473,\n",
       " -0.5781428571428558,\n",
       " -0.6744999999999983,\n",
       " -0.5781428571428558,\n",
       " -0.9635714285714271,\n",
       " -0.19271428571428473,\n",
       " -0.6744999999999983,\n",
       " 0.9635714285714271,\n",
       " 0.19271428571428645,\n",
       " 0.8672142857142847,\n",
       " -0.6744999999999983,\n",
       " -0.6744999999999983,\n",
       " 2.408928571428568,\n",
       " -0.5781428571428558,\n",
       " 1.2526428571428558,\n",
       " -0.5781428571428558,\n",
       " -0.6744999999999983,\n",
       " -0.8672142857142829,\n",
       " -0.6744999999999983,\n",
       " -0.6744999999999983,\n",
       " -0.8672142857142829,\n",
       " -0.9635714285714271,\n",
       " -0.8672142857142829,\n",
       " 1.2526428571428558,\n",
       " -0.6744999999999983,\n",
       " -0.9635714285714271,\n",
       " -0.19271428571428473,\n",
       " -0.6744999999999983,\n",
       " -0.6744999999999983,\n",
       " -1.1562857142857117,\n",
       " -0.7708571428571407,\n",
       " -0.5781428571428558,\n",
       " -0.6744999999999983,\n",
       " -0.6744999999999983,\n",
       " -0.6744999999999983,\n",
       " -0.7708571428571407,\n",
       " -0.6744999999999983,\n",
       " -1.0599285714285696,\n",
       " 0.48178571428571354,\n",
       " 0.9635714285714271,\n",
       " -0.38542857142856946,\n",
       " -0.38542857142856946,\n",
       " -0.9635714285714271,\n",
       " -0.48178571428571354,\n",
       " -0.5781428571428558,\n",
       " -0.19271428571428473,\n",
       " -0.5781428571428558,\n",
       " -0.6744999999999983,\n",
       " -0.6744999999999983,\n",
       " -0.7708571428571407,\n",
       " -0.6744999999999983,\n",
       " -0.48178571428571354,\n",
       " -0.5781428571428558,\n",
       " -0.48178571428571354,\n",
       " -0.7708571428571407,\n",
       " -0.7708571428571407,\n",
       " -0.6744999999999983,\n",
       " -0.6744999999999983,\n",
       " -0.19271428571428473,\n",
       " 0.09635714285714407,\n",
       " 0.09635714285714407,\n",
       " 0.2890714285714288,\n",
       " -0.38542857142856946,\n",
       " -0.7708571428571407,\n",
       " -0.38542857142856946,\n",
       " -0.19271428571428473,\n",
       " -0.38542857142856946,\n",
       " -0.38542857142856946,\n",
       " -0.6744999999999983,\n",
       " -0.6744999999999983,\n",
       " -0.09635714285714236,\n",
       " -0.09635714285714236,\n",
       " -0.8672142857142829,\n",
       " -0.48178571428571354,\n",
       " -0.5781428571428558,\n",
       " -0.48178571428571354,\n",
       " 0.5781428571428576,\n",
       " 2.216214285714283,\n",
       " 0.0,\n",
       " -0.5781428571428558,\n",
       " 0.5781428571428576,\n",
       " 0.48178571428571354,\n",
       " 0.48178571428571354,\n",
       " -0.7708571428571407,\n",
       " -0.19271428571428473,\n",
       " 2.601642857142854,\n",
       " -0.5781428571428558,\n",
       " -0.2890714285714271,\n",
       " 2.5052857142857117,\n",
       " 2.216214285714283,\n",
       " 2.5052857142857117,\n",
       " -0.9635714285714271,\n",
       " 0.09635714285714407,\n",
       " 0.2890714285714288,\n",
       " 0.6745,\n",
       " 0.5781428571428576,\n",
       " 1.1562857142857135,\n",
       " 1.0599285714285713,\n",
       " 0.5781428571428576,\n",
       " 0.2890714285714288,\n",
       " 1.6380714285714268,\n",
       " -0.7708571428571407,\n",
       " -0.5781428571428558,\n",
       " -0.48178571428571354,\n",
       " 3.6615714285714236,\n",
       " -0.38542857142856946,\n",
       " -0.38542857142856946,\n",
       " 0.09635714285714407,\n",
       " 0.48178571428571354,\n",
       " 0.7708571428571425,\n",
       " 0.48178571428571354,\n",
       " 2.408928571428568,\n",
       " 0.8672142857142847,\n",
       " 0.6745,\n",
       " 0.8672142857142847,\n",
       " -0.2890714285714271,\n",
       " -0.2890714285714271,\n",
       " -0.7708571428571407,\n",
       " -0.8672142857142829,\n",
       " 1.4453571428571406,\n",
       " 1.4453571428571406,\n",
       " 0.9635714285714271,\n",
       " -0.19271428571428473,\n",
       " 1.8307857142857118,\n",
       " 0.09635714285714407,\n",
       " 0.6745,\n",
       " -0.7708571428571407,\n",
       " 0.38542857142857123,\n",
       " -0.38542857142856946,\n",
       " -0.38542857142856946,\n",
       " -0.2890714285714271,\n",
       " -0.38542857142856946,\n",
       " -0.38542857142856946,\n",
       " -0.6744999999999983,\n",
       " -0.6744999999999983,\n",
       " -0.48178571428571354,\n",
       " 0.6745,\n",
       " 0.6745,\n",
       " 1.4453571428571406,\n",
       " 0.6745,\n",
       " 1.0599285714285713,\n",
       " 0.38542857142857123,\n",
       " 0.9635714285714271,\n",
       " -0.6744999999999983,\n",
       " 1.2526428571428558,\n",
       " 0.19271428571428645,\n",
       " -0.48178571428571354,\n",
       " -0.6744999999999983,\n",
       " -0.48178571428571354,\n",
       " 1.0599285714285713,\n",
       " 0.9635714285714271,\n",
       " 0.9635714285714271,\n",
       " 0.6745,\n",
       " 1.541714285714285,\n",
       " 0.38542857142857123,\n",
       " -0.19271428571428473,\n",
       " 0.8672142857142847,\n",
       " 1.541714285714285,\n",
       " 1.541714285714285,\n",
       " 0.6745,\n",
       " 1.541714285714285,\n",
       " -0.19271428571428473,\n",
       " -0.6744999999999983,\n",
       " -0.2890714285714271,\n",
       " 1.1562857142857135,\n",
       " 1.7344285714285694,\n",
       " -0.6744999999999983,\n",
       " -0.19271428571428473,\n",
       " 0.2890714285714288,\n",
       " 0.19271428571428645,\n",
       " 1.8307857142857118,\n",
       " 0.9635714285714271,\n",
       " -0.8672142857142829,\n",
       " -0.09635714285714236,\n",
       " -0.48178571428571354,\n",
       " -0.8672142857142829,\n",
       " -0.48178571428571354,\n",
       " -0.38542857142856946,\n",
       " 0.48178571428571354,\n",
       " 2.216214285714283,\n",
       " 0.48178571428571354,\n",
       " 2.216214285714283,\n",
       " 0.7708571428571425,\n",
       " 1.541714285714285,\n",
       " 0.5781428571428576,\n",
       " 0.5781428571428576,\n",
       " 0.5781428571428576,\n",
       " 0.5781428571428576,\n",
       " -0.6744999999999983,\n",
       " 0.7708571428571425,\n",
       " 1.2526428571428558,\n",
       " 0.5781428571428576,\n",
       " 1.2526428571428558,\n",
       " 2.890714285714281,\n",
       " 0.6745,\n",
       " 1.9271428571428542,\n",
       " 1.9271428571428542,\n",
       " 1.2526428571428558,\n",
       " 1.6380714285714268,\n",
       " 0.7708571428571425,\n",
       " -0.09635714285714236,\n",
       " 0.7708571428571425,\n",
       " 1.541714285714285,\n",
       " 0.2890714285714288,\n",
       " 0.7708571428571425,\n",
       " 1.541714285714285,\n",
       " -0.09635714285714236,\n",
       " 0.9635714285714271,\n",
       " 0.7708571428571425,\n",
       " 0.0,\n",
       " -0.9635714285714271,\n",
       " 0.9635714285714271,\n",
       " 1.7344285714285694,\n",
       " 0.2890714285714288,\n",
       " -0.38542857142856946,\n",
       " -0.6744999999999983,\n",
       " -0.38542857142856946,\n",
       " 0.2890714285714288,\n",
       " 1.541714285714285,\n",
       " 1.541714285714285,\n",
       " 0.19271428571428645,\n",
       " 2.601642857142854,\n",
       " 1.1562857142857135,\n",
       " 2.1198571428571404,\n",
       " 2.216214285714283,\n",
       " -0.19271428571428473,\n",
       " -0.48178571428571354,\n",
       " 1.8307857142857118,\n",
       " 0.8672142857142847,\n",
       " 1.7344285714285694,\n",
       " 2.1198571428571404,\n",
       " 1.6380714285714268,\n",
       " 1.6380714285714268,\n",
       " 1.6380714285714268,\n",
       " 2.1198571428571404,\n",
       " 0.9635714285714271,\n",
       " 1.8307857142857118,\n",
       " 1.9271428571428542,\n",
       " 0.19271428571428645,\n",
       " 1.0599285714285713,\n",
       " 0.8672142857142847,\n",
       " 1.0599285714285713,\n",
       " -0.19271428571428473,\n",
       " 0.8672142857142847,\n",
       " -0.8672142857142829,\n",
       " -0.6744999999999983,\n",
       " 0.9635714285714271,\n",
       " 0.8672142857142847,\n",
       " 0.7708571428571425,\n",
       " 1.6380714285714268,\n",
       " -0.9635714285714271,\n",
       " 1.9271428571428542,\n",
       " 0.0,\n",
       " 0.6745,\n",
       " 0.6745,\n",
       " 1.3489999999999982,\n",
       " 0.48178571428571354,\n",
       " 1.8307857142857118,\n",
       " -0.7708571428571407,\n",
       " -0.7708571428571407,\n",
       " -1.0599285714285696,\n",
       " 1.0599285714285713,\n",
       " 0.19271428571428645,\n",
       " 0.2890714285714288,\n",
       " -0.19271428571428473,\n",
       " 2.601642857142854,\n",
       " 0.2890714285714288,\n",
       " 0.19271428571428645,\n",
       " 1.0599285714285713,\n",
       " 1.1562857142857135,\n",
       " -0.7708571428571407,\n",
       " -0.7708571428571407,\n",
       " 0.6745,\n",
       " -0.7708571428571407,\n",
       " -0.7708571428571407,\n",
       " -0.7708571428571407,\n",
       " -0.7708571428571407,\n",
       " -0.7708571428571407,\n",
       " -0.09635714285714236,\n",
       " 2.5052857142857117,\n",
       " 2.5052857142857117,\n",
       " -1.0599285714285696,\n",
       " 2.601642857142854,\n",
       " ...]"
      ]
     },
     "execution_count": 115,
     "metadata": {},
     "output_type": "execute_result"
    }
   ],
   "source": [
    "z_score_modificado(red_wine_df['alcohol'])"
   ]
  },
  {
   "cell_type": "code",
   "execution_count": 116,
   "id": "f7a048ed",
   "metadata": {},
   "outputs": [
    {
     "data": {
      "text/html": [
       "<div>\n",
       "<style scoped>\n",
       "    .dataframe tbody tr th:only-of-type {\n",
       "        vertical-align: middle;\n",
       "    }\n",
       "\n",
       "    .dataframe tbody tr th {\n",
       "        vertical-align: top;\n",
       "    }\n",
       "\n",
       "    .dataframe thead th {\n",
       "        text-align: right;\n",
       "    }\n",
       "</style>\n",
       "<table border=\"1\" class=\"dataframe\">\n",
       "  <thead>\n",
       "    <tr style=\"text-align: right;\">\n",
       "      <th></th>\n",
       "      <th>fixed acidity</th>\n",
       "      <th>volatile acidity</th>\n",
       "      <th>citric acid</th>\n",
       "      <th>residual sugar</th>\n",
       "      <th>chlorides</th>\n",
       "      <th>free sulfur dioxide</th>\n",
       "      <th>total sulfur dioxide</th>\n",
       "      <th>density</th>\n",
       "      <th>pH</th>\n",
       "      <th>sulphates</th>\n",
       "      <th>alcohol</th>\n",
       "      <th>quality</th>\n",
       "    </tr>\n",
       "  </thead>\n",
       "  <tbody>\n",
       "    <tr>\n",
       "      <th>142</th>\n",
       "      <td>5.2</td>\n",
       "      <td>0.34</td>\n",
       "      <td>0.00</td>\n",
       "      <td>1.8</td>\n",
       "      <td>0.050</td>\n",
       "      <td>27.0</td>\n",
       "      <td>63.0</td>\n",
       "      <td>0.99160</td>\n",
       "      <td>3.68</td>\n",
       "      <td>0.79</td>\n",
       "      <td>14.000000</td>\n",
       "      <td>6</td>\n",
       "    </tr>\n",
       "    <tr>\n",
       "      <th>144</th>\n",
       "      <td>5.2</td>\n",
       "      <td>0.34</td>\n",
       "      <td>0.00</td>\n",
       "      <td>1.8</td>\n",
       "      <td>0.050</td>\n",
       "      <td>27.0</td>\n",
       "      <td>63.0</td>\n",
       "      <td>0.99160</td>\n",
       "      <td>3.68</td>\n",
       "      <td>0.79</td>\n",
       "      <td>14.000000</td>\n",
       "      <td>6</td>\n",
       "    </tr>\n",
       "    <tr>\n",
       "      <th>455</th>\n",
       "      <td>11.3</td>\n",
       "      <td>0.62</td>\n",
       "      <td>0.67</td>\n",
       "      <td>5.2</td>\n",
       "      <td>0.086</td>\n",
       "      <td>6.0</td>\n",
       "      <td>19.0</td>\n",
       "      <td>0.99880</td>\n",
       "      <td>3.22</td>\n",
       "      <td>0.69</td>\n",
       "      <td>13.400000</td>\n",
       "      <td>8</td>\n",
       "    </tr>\n",
       "    <tr>\n",
       "      <th>467</th>\n",
       "      <td>8.8</td>\n",
       "      <td>0.46</td>\n",
       "      <td>0.45</td>\n",
       "      <td>2.6</td>\n",
       "      <td>0.065</td>\n",
       "      <td>7.0</td>\n",
       "      <td>18.0</td>\n",
       "      <td>0.99470</td>\n",
       "      <td>3.32</td>\n",
       "      <td>0.79</td>\n",
       "      <td>14.000000</td>\n",
       "      <td>6</td>\n",
       "    </tr>\n",
       "    <tr>\n",
       "      <th>484</th>\n",
       "      <td>10.6</td>\n",
       "      <td>0.44</td>\n",
       "      <td>0.68</td>\n",
       "      <td>4.1</td>\n",
       "      <td>0.114</td>\n",
       "      <td>6.0</td>\n",
       "      <td>24.0</td>\n",
       "      <td>0.99700</td>\n",
       "      <td>3.06</td>\n",
       "      <td>0.66</td>\n",
       "      <td>13.400000</td>\n",
       "      <td>6</td>\n",
       "    </tr>\n",
       "    <tr>\n",
       "      <th>492</th>\n",
       "      <td>8.9</td>\n",
       "      <td>0.40</td>\n",
       "      <td>0.51</td>\n",
       "      <td>2.6</td>\n",
       "      <td>0.052</td>\n",
       "      <td>13.0</td>\n",
       "      <td>27.0</td>\n",
       "      <td>0.99500</td>\n",
       "      <td>3.32</td>\n",
       "      <td>0.90</td>\n",
       "      <td>13.400000</td>\n",
       "      <td>7</td>\n",
       "    </tr>\n",
       "    <tr>\n",
       "      <th>588</th>\n",
       "      <td>5.0</td>\n",
       "      <td>0.42</td>\n",
       "      <td>0.24</td>\n",
       "      <td>2.0</td>\n",
       "      <td>0.060</td>\n",
       "      <td>19.0</td>\n",
       "      <td>50.0</td>\n",
       "      <td>0.99170</td>\n",
       "      <td>3.72</td>\n",
       "      <td>0.74</td>\n",
       "      <td>14.000000</td>\n",
       "      <td>8</td>\n",
       "    </tr>\n",
       "    <tr>\n",
       "      <th>652</th>\n",
       "      <td>15.9</td>\n",
       "      <td>0.36</td>\n",
       "      <td>0.65</td>\n",
       "      <td>7.5</td>\n",
       "      <td>0.096</td>\n",
       "      <td>22.0</td>\n",
       "      <td>71.0</td>\n",
       "      <td>0.99760</td>\n",
       "      <td>2.98</td>\n",
       "      <td>0.84</td>\n",
       "      <td>14.900000</td>\n",
       "      <td>5</td>\n",
       "    </tr>\n",
       "    <tr>\n",
       "      <th>821</th>\n",
       "      <td>4.9</td>\n",
       "      <td>0.42</td>\n",
       "      <td>0.00</td>\n",
       "      <td>2.1</td>\n",
       "      <td>0.048</td>\n",
       "      <td>16.0</td>\n",
       "      <td>42.0</td>\n",
       "      <td>0.99154</td>\n",
       "      <td>3.71</td>\n",
       "      <td>0.74</td>\n",
       "      <td>14.000000</td>\n",
       "      <td>7</td>\n",
       "    </tr>\n",
       "    <tr>\n",
       "      <th>1114</th>\n",
       "      <td>5.0</td>\n",
       "      <td>0.40</td>\n",
       "      <td>0.50</td>\n",
       "      <td>4.3</td>\n",
       "      <td>0.046</td>\n",
       "      <td>29.0</td>\n",
       "      <td>80.0</td>\n",
       "      <td>0.99020</td>\n",
       "      <td>3.49</td>\n",
       "      <td>0.66</td>\n",
       "      <td>13.600000</td>\n",
       "      <td>6</td>\n",
       "    </tr>\n",
       "    <tr>\n",
       "      <th>1126</th>\n",
       "      <td>5.8</td>\n",
       "      <td>0.29</td>\n",
       "      <td>0.26</td>\n",
       "      <td>1.7</td>\n",
       "      <td>0.063</td>\n",
       "      <td>3.0</td>\n",
       "      <td>11.0</td>\n",
       "      <td>0.99150</td>\n",
       "      <td>3.39</td>\n",
       "      <td>0.54</td>\n",
       "      <td>13.500000</td>\n",
       "      <td>6</td>\n",
       "    </tr>\n",
       "    <tr>\n",
       "      <th>1132</th>\n",
       "      <td>7.4</td>\n",
       "      <td>0.36</td>\n",
       "      <td>0.34</td>\n",
       "      <td>1.8</td>\n",
       "      <td>0.075</td>\n",
       "      <td>18.0</td>\n",
       "      <td>38.0</td>\n",
       "      <td>0.99330</td>\n",
       "      <td>3.38</td>\n",
       "      <td>0.88</td>\n",
       "      <td>13.600000</td>\n",
       "      <td>7</td>\n",
       "    </tr>\n",
       "    <tr>\n",
       "      <th>1228</th>\n",
       "      <td>5.1</td>\n",
       "      <td>0.42</td>\n",
       "      <td>0.00</td>\n",
       "      <td>1.8</td>\n",
       "      <td>0.044</td>\n",
       "      <td>18.0</td>\n",
       "      <td>88.0</td>\n",
       "      <td>0.99157</td>\n",
       "      <td>3.68</td>\n",
       "      <td>0.73</td>\n",
       "      <td>13.600000</td>\n",
       "      <td>7</td>\n",
       "    </tr>\n",
       "    <tr>\n",
       "      <th>1269</th>\n",
       "      <td>5.5</td>\n",
       "      <td>0.49</td>\n",
       "      <td>0.03</td>\n",
       "      <td>1.8</td>\n",
       "      <td>0.044</td>\n",
       "      <td>28.0</td>\n",
       "      <td>87.0</td>\n",
       "      <td>0.99080</td>\n",
       "      <td>3.50</td>\n",
       "      <td>0.82</td>\n",
       "      <td>14.000000</td>\n",
       "      <td>8</td>\n",
       "    </tr>\n",
       "    <tr>\n",
       "      <th>1270</th>\n",
       "      <td>5.0</td>\n",
       "      <td>0.38</td>\n",
       "      <td>0.01</td>\n",
       "      <td>1.6</td>\n",
       "      <td>0.048</td>\n",
       "      <td>26.0</td>\n",
       "      <td>60.0</td>\n",
       "      <td>0.99084</td>\n",
       "      <td>3.70</td>\n",
       "      <td>0.75</td>\n",
       "      <td>14.000000</td>\n",
       "      <td>6</td>\n",
       "    </tr>\n",
       "    <tr>\n",
       "      <th>1475</th>\n",
       "      <td>5.3</td>\n",
       "      <td>0.47</td>\n",
       "      <td>0.11</td>\n",
       "      <td>2.2</td>\n",
       "      <td>0.048</td>\n",
       "      <td>16.0</td>\n",
       "      <td>89.0</td>\n",
       "      <td>0.99182</td>\n",
       "      <td>3.54</td>\n",
       "      <td>0.88</td>\n",
       "      <td>13.566667</td>\n",
       "      <td>7</td>\n",
       "    </tr>\n",
       "    <tr>\n",
       "      <th>1477</th>\n",
       "      <td>5.3</td>\n",
       "      <td>0.47</td>\n",
       "      <td>0.11</td>\n",
       "      <td>2.2</td>\n",
       "      <td>0.048</td>\n",
       "      <td>16.0</td>\n",
       "      <td>89.0</td>\n",
       "      <td>0.99182</td>\n",
       "      <td>3.54</td>\n",
       "      <td>0.88</td>\n",
       "      <td>13.600000</td>\n",
       "      <td>7</td>\n",
       "    </tr>\n",
       "  </tbody>\n",
       "</table>\n",
       "</div>"
      ],
      "text/plain": [
       "      fixed acidity  volatile acidity  citric acid  residual sugar  chlorides  \\\n",
       "142             5.2              0.34         0.00             1.8      0.050   \n",
       "144             5.2              0.34         0.00             1.8      0.050   \n",
       "455            11.3              0.62         0.67             5.2      0.086   \n",
       "467             8.8              0.46         0.45             2.6      0.065   \n",
       "484            10.6              0.44         0.68             4.1      0.114   \n",
       "492             8.9              0.40         0.51             2.6      0.052   \n",
       "588             5.0              0.42         0.24             2.0      0.060   \n",
       "652            15.9              0.36         0.65             7.5      0.096   \n",
       "821             4.9              0.42         0.00             2.1      0.048   \n",
       "1114            5.0              0.40         0.50             4.3      0.046   \n",
       "1126            5.8              0.29         0.26             1.7      0.063   \n",
       "1132            7.4              0.36         0.34             1.8      0.075   \n",
       "1228            5.1              0.42         0.00             1.8      0.044   \n",
       "1269            5.5              0.49         0.03             1.8      0.044   \n",
       "1270            5.0              0.38         0.01             1.6      0.048   \n",
       "1475            5.3              0.47         0.11             2.2      0.048   \n",
       "1477            5.3              0.47         0.11             2.2      0.048   \n",
       "\n",
       "      free sulfur dioxide  total sulfur dioxide  density    pH  sulphates  \\\n",
       "142                  27.0                  63.0  0.99160  3.68       0.79   \n",
       "144                  27.0                  63.0  0.99160  3.68       0.79   \n",
       "455                   6.0                  19.0  0.99880  3.22       0.69   \n",
       "467                   7.0                  18.0  0.99470  3.32       0.79   \n",
       "484                   6.0                  24.0  0.99700  3.06       0.66   \n",
       "492                  13.0                  27.0  0.99500  3.32       0.90   \n",
       "588                  19.0                  50.0  0.99170  3.72       0.74   \n",
       "652                  22.0                  71.0  0.99760  2.98       0.84   \n",
       "821                  16.0                  42.0  0.99154  3.71       0.74   \n",
       "1114                 29.0                  80.0  0.99020  3.49       0.66   \n",
       "1126                  3.0                  11.0  0.99150  3.39       0.54   \n",
       "1132                 18.0                  38.0  0.99330  3.38       0.88   \n",
       "1228                 18.0                  88.0  0.99157  3.68       0.73   \n",
       "1269                 28.0                  87.0  0.99080  3.50       0.82   \n",
       "1270                 26.0                  60.0  0.99084  3.70       0.75   \n",
       "1475                 16.0                  89.0  0.99182  3.54       0.88   \n",
       "1477                 16.0                  89.0  0.99182  3.54       0.88   \n",
       "\n",
       "        alcohol  quality  \n",
       "142   14.000000        6  \n",
       "144   14.000000        6  \n",
       "455   13.400000        8  \n",
       "467   14.000000        6  \n",
       "484   13.400000        6  \n",
       "492   13.400000        7  \n",
       "588   14.000000        8  \n",
       "652   14.900000        5  \n",
       "821   14.000000        7  \n",
       "1114  13.600000        6  \n",
       "1126  13.500000        6  \n",
       "1132  13.600000        7  \n",
       "1228  13.600000        7  \n",
       "1269  14.000000        8  \n",
       "1270  14.000000        6  \n",
       "1475  13.566667        7  \n",
       "1477  13.600000        7  "
      ]
     },
     "execution_count": 116,
     "metadata": {},
     "output_type": "execute_result"
    }
   ],
   "source": [
    "z_score_modificado_alcohol = z_score_modificado(red_wine_df['alcohol'])\n",
    "red_wine_df.iloc[np.where(np.abs(z_score_modificado_alcohol)>3)]"
   ]
  },
  {
   "cell_type": "code",
   "execution_count": 117,
   "id": "75a03381",
   "metadata": {},
   "outputs": [],
   "source": [
    "red_wine_df_alcohol_no_outliers = red_wine_df.iloc[np.where(np.abs(z_score_modificado_alcohol)<3)]"
   ]
  },
  {
   "cell_type": "code",
   "execution_count": 118,
   "id": "7ec98978",
   "metadata": {},
   "outputs": [
    {
     "data": {
      "text/html": [
       "<div>\n",
       "<style scoped>\n",
       "    .dataframe tbody tr th:only-of-type {\n",
       "        vertical-align: middle;\n",
       "    }\n",
       "\n",
       "    .dataframe tbody tr th {\n",
       "        vertical-align: top;\n",
       "    }\n",
       "\n",
       "    .dataframe thead th {\n",
       "        text-align: right;\n",
       "    }\n",
       "</style>\n",
       "<table border=\"1\" class=\"dataframe\">\n",
       "  <thead>\n",
       "    <tr style=\"text-align: right;\">\n",
       "      <th></th>\n",
       "      <th>fixed acidity</th>\n",
       "      <th>volatile acidity</th>\n",
       "      <th>citric acid</th>\n",
       "      <th>residual sugar</th>\n",
       "      <th>chlorides</th>\n",
       "      <th>free sulfur dioxide</th>\n",
       "      <th>total sulfur dioxide</th>\n",
       "      <th>density</th>\n",
       "      <th>pH</th>\n",
       "      <th>sulphates</th>\n",
       "      <th>alcohol</th>\n",
       "      <th>quality</th>\n",
       "    </tr>\n",
       "  </thead>\n",
       "  <tbody>\n",
       "    <tr>\n",
       "      <th>0</th>\n",
       "      <td>7.4</td>\n",
       "      <td>0.700</td>\n",
       "      <td>0.00</td>\n",
       "      <td>1.9</td>\n",
       "      <td>0.076</td>\n",
       "      <td>11.0</td>\n",
       "      <td>34.0</td>\n",
       "      <td>0.99780</td>\n",
       "      <td>3.51</td>\n",
       "      <td>0.56</td>\n",
       "      <td>9.4</td>\n",
       "      <td>5</td>\n",
       "    </tr>\n",
       "    <tr>\n",
       "      <th>1</th>\n",
       "      <td>7.8</td>\n",
       "      <td>0.880</td>\n",
       "      <td>0.00</td>\n",
       "      <td>2.6</td>\n",
       "      <td>0.098</td>\n",
       "      <td>25.0</td>\n",
       "      <td>67.0</td>\n",
       "      <td>0.99680</td>\n",
       "      <td>3.20</td>\n",
       "      <td>0.68</td>\n",
       "      <td>9.8</td>\n",
       "      <td>5</td>\n",
       "    </tr>\n",
       "    <tr>\n",
       "      <th>2</th>\n",
       "      <td>7.8</td>\n",
       "      <td>0.760</td>\n",
       "      <td>0.04</td>\n",
       "      <td>2.3</td>\n",
       "      <td>0.092</td>\n",
       "      <td>15.0</td>\n",
       "      <td>54.0</td>\n",
       "      <td>0.99700</td>\n",
       "      <td>3.26</td>\n",
       "      <td>0.65</td>\n",
       "      <td>9.8</td>\n",
       "      <td>5</td>\n",
       "    </tr>\n",
       "    <tr>\n",
       "      <th>3</th>\n",
       "      <td>11.2</td>\n",
       "      <td>0.280</td>\n",
       "      <td>0.56</td>\n",
       "      <td>1.9</td>\n",
       "      <td>0.075</td>\n",
       "      <td>17.0</td>\n",
       "      <td>60.0</td>\n",
       "      <td>0.99800</td>\n",
       "      <td>3.16</td>\n",
       "      <td>0.58</td>\n",
       "      <td>9.8</td>\n",
       "      <td>6</td>\n",
       "    </tr>\n",
       "    <tr>\n",
       "      <th>4</th>\n",
       "      <td>7.4</td>\n",
       "      <td>0.700</td>\n",
       "      <td>0.00</td>\n",
       "      <td>1.9</td>\n",
       "      <td>0.076</td>\n",
       "      <td>11.0</td>\n",
       "      <td>34.0</td>\n",
       "      <td>0.99780</td>\n",
       "      <td>3.51</td>\n",
       "      <td>0.56</td>\n",
       "      <td>9.4</td>\n",
       "      <td>5</td>\n",
       "    </tr>\n",
       "    <tr>\n",
       "      <th>...</th>\n",
       "      <td>...</td>\n",
       "      <td>...</td>\n",
       "      <td>...</td>\n",
       "      <td>...</td>\n",
       "      <td>...</td>\n",
       "      <td>...</td>\n",
       "      <td>...</td>\n",
       "      <td>...</td>\n",
       "      <td>...</td>\n",
       "      <td>...</td>\n",
       "      <td>...</td>\n",
       "      <td>...</td>\n",
       "    </tr>\n",
       "    <tr>\n",
       "      <th>1594</th>\n",
       "      <td>6.2</td>\n",
       "      <td>0.600</td>\n",
       "      <td>0.08</td>\n",
       "      <td>2.0</td>\n",
       "      <td>0.090</td>\n",
       "      <td>32.0</td>\n",
       "      <td>44.0</td>\n",
       "      <td>0.99490</td>\n",
       "      <td>3.45</td>\n",
       "      <td>0.58</td>\n",
       "      <td>10.5</td>\n",
       "      <td>5</td>\n",
       "    </tr>\n",
       "    <tr>\n",
       "      <th>1595</th>\n",
       "      <td>5.9</td>\n",
       "      <td>0.550</td>\n",
       "      <td>0.10</td>\n",
       "      <td>2.2</td>\n",
       "      <td>0.062</td>\n",
       "      <td>39.0</td>\n",
       "      <td>51.0</td>\n",
       "      <td>0.99512</td>\n",
       "      <td>3.52</td>\n",
       "      <td>0.76</td>\n",
       "      <td>11.2</td>\n",
       "      <td>6</td>\n",
       "    </tr>\n",
       "    <tr>\n",
       "      <th>1596</th>\n",
       "      <td>6.3</td>\n",
       "      <td>0.510</td>\n",
       "      <td>0.13</td>\n",
       "      <td>2.3</td>\n",
       "      <td>0.076</td>\n",
       "      <td>29.0</td>\n",
       "      <td>40.0</td>\n",
       "      <td>0.99574</td>\n",
       "      <td>3.42</td>\n",
       "      <td>0.75</td>\n",
       "      <td>11.0</td>\n",
       "      <td>6</td>\n",
       "    </tr>\n",
       "    <tr>\n",
       "      <th>1597</th>\n",
       "      <td>5.9</td>\n",
       "      <td>0.645</td>\n",
       "      <td>0.12</td>\n",
       "      <td>2.0</td>\n",
       "      <td>0.075</td>\n",
       "      <td>32.0</td>\n",
       "      <td>44.0</td>\n",
       "      <td>0.99547</td>\n",
       "      <td>3.57</td>\n",
       "      <td>0.71</td>\n",
       "      <td>10.2</td>\n",
       "      <td>5</td>\n",
       "    </tr>\n",
       "    <tr>\n",
       "      <th>1598</th>\n",
       "      <td>6.0</td>\n",
       "      <td>0.310</td>\n",
       "      <td>0.47</td>\n",
       "      <td>3.6</td>\n",
       "      <td>0.067</td>\n",
       "      <td>18.0</td>\n",
       "      <td>42.0</td>\n",
       "      <td>0.99549</td>\n",
       "      <td>3.39</td>\n",
       "      <td>0.66</td>\n",
       "      <td>11.0</td>\n",
       "      <td>6</td>\n",
       "    </tr>\n",
       "  </tbody>\n",
       "</table>\n",
       "<p>1582 rows × 12 columns</p>\n",
       "</div>"
      ],
      "text/plain": [
       "      fixed acidity  volatile acidity  citric acid  residual sugar  chlorides  \\\n",
       "0               7.4             0.700         0.00             1.9      0.076   \n",
       "1               7.8             0.880         0.00             2.6      0.098   \n",
       "2               7.8             0.760         0.04             2.3      0.092   \n",
       "3              11.2             0.280         0.56             1.9      0.075   \n",
       "4               7.4             0.700         0.00             1.9      0.076   \n",
       "...             ...               ...          ...             ...        ...   \n",
       "1594            6.2             0.600         0.08             2.0      0.090   \n",
       "1595            5.9             0.550         0.10             2.2      0.062   \n",
       "1596            6.3             0.510         0.13             2.3      0.076   \n",
       "1597            5.9             0.645         0.12             2.0      0.075   \n",
       "1598            6.0             0.310         0.47             3.6      0.067   \n",
       "\n",
       "      free sulfur dioxide  total sulfur dioxide  density    pH  sulphates  \\\n",
       "0                    11.0                  34.0  0.99780  3.51       0.56   \n",
       "1                    25.0                  67.0  0.99680  3.20       0.68   \n",
       "2                    15.0                  54.0  0.99700  3.26       0.65   \n",
       "3                    17.0                  60.0  0.99800  3.16       0.58   \n",
       "4                    11.0                  34.0  0.99780  3.51       0.56   \n",
       "...                   ...                   ...      ...   ...        ...   \n",
       "1594                 32.0                  44.0  0.99490  3.45       0.58   \n",
       "1595                 39.0                  51.0  0.99512  3.52       0.76   \n",
       "1596                 29.0                  40.0  0.99574  3.42       0.75   \n",
       "1597                 32.0                  44.0  0.99547  3.57       0.71   \n",
       "1598                 18.0                  42.0  0.99549  3.39       0.66   \n",
       "\n",
       "      alcohol  quality  \n",
       "0         9.4        5  \n",
       "1         9.8        5  \n",
       "2         9.8        5  \n",
       "3         9.8        6  \n",
       "4         9.4        5  \n",
       "...       ...      ...  \n",
       "1594     10.5        5  \n",
       "1595     11.2        6  \n",
       "1596     11.0        6  \n",
       "1597     10.2        5  \n",
       "1598     11.0        6  \n",
       "\n",
       "[1582 rows x 12 columns]"
      ]
     },
     "execution_count": 118,
     "metadata": {},
     "output_type": "execute_result"
    }
   ],
   "source": [
    "red_wine_df_alcohol_no_outliers"
   ]
  },
  {
   "cell_type": "code",
   "execution_count": 119,
   "id": "206fb4fd",
   "metadata": {},
   "outputs": [
    {
     "data": {
      "image/png": "[encoded data removed]",
      "text/plain": [
       "<Figure size 640x480 with 1 Axes>"
      ]
     },
     "metadata": {},
     "output_type": "display_data"
    }
   ],
   "source": [
    "sns.boxplot(data=red_wine_df_alcohol_no_outliers['alcohol'], orient='h')\n",
    "plt.xlabel('Álcool')\n",
    "plt.show()"
   ]
  },
  {
   "cell_type": "markdown",
   "id": "b2068126",
   "metadata": {},
   "source": [
    "# Usando IIQ/IQR para identificar outliers"
   ]
  },
  {
   "cell_type": "code",
   "execution_count": 120,
   "id": "9457214a",
   "metadata": {},
   "outputs": [],
   "source": [
    "def limite_inferior_superior(dados):\n",
    "    #Calcular primeiro e tercerio quartis\n",
    "    q1 = np.percentile(dados, 25)\n",
    "    q3 = np.percentile(dados, 75)\n",
    "    \n",
    "    # Calcular intervalor interquartil\n",
    "    iqr = q3 - q1\n",
    "    \n",
    "    # Calcula o limite inferior e superior\n",
    "    limite_inferior = q1 - (iqr * 1.5)\n",
    "    limite_superior = q3 + (iqr * 1.5)\n",
    "    \n",
    "    return limite_inferior, limite_superior"
   ]
  },
  {
   "cell_type": "code",
   "execution_count": 121,
   "id": "7c0f50a4",
   "metadata": {},
   "outputs": [],
   "source": [
    "def encontrar_outliers_iqr(dados):\n",
    "    limite_inferior, limite_superior = limite_inferior_superior(dados)\n",
    "    # Retorna os dados fora dos limites\n",
    "    return dados[np.where((dados > limite_superior) |\n",
    "                            (dados < limite_inferior))]"
   ]
  },
  {
   "cell_type": "code",
   "execution_count": 122,
   "id": "f09573f3",
   "metadata": {},
   "outputs": [
    {
     "data": {
      "text/plain": [
       "array([14.        , 14.        , 14.        , 14.        , 14.9       ,\n",
       "       14.        , 13.6       , 13.6       , 13.6       , 14.        ,\n",
       "       14.        , 13.56666667, 13.6       ])"
      ]
     },
     "execution_count": 122,
     "metadata": {},
     "output_type": "execute_result"
    }
   ],
   "source": [
    "encontrar_outliers_iqr(red_wine_df['alcohol'].values)"
   ]
  },
  {
   "cell_type": "code",
   "execution_count": 123,
   "id": "1dc1b482",
   "metadata": {},
   "outputs": [],
   "source": [
    "red_wine_df_no_outliers_alcool = red_wine_df[~red_wine_df['alcohol'].isin(encontrar_outliers_iqr(red_wine_df['alcohol'].values))]"
   ]
  },
  {
   "cell_type": "code",
   "execution_count": 124,
   "id": "2fda1c56",
   "metadata": {},
   "outputs": [
    {
     "data": {
      "text/html": [
       "<div>\n",
       "<style scoped>\n",
       "    .dataframe tbody tr th:only-of-type {\n",
       "        vertical-align: middle;\n",
       "    }\n",
       "\n",
       "    .dataframe tbody tr th {\n",
       "        vertical-align: top;\n",
       "    }\n",
       "\n",
       "    .dataframe thead th {\n",
       "        text-align: right;\n",
       "    }\n",
       "</style>\n",
       "<table border=\"1\" class=\"dataframe\">\n",
       "  <thead>\n",
       "    <tr style=\"text-align: right;\">\n",
       "      <th></th>\n",
       "      <th>fixed acidity</th>\n",
       "      <th>volatile acidity</th>\n",
       "      <th>citric acid</th>\n",
       "      <th>residual sugar</th>\n",
       "      <th>chlorides</th>\n",
       "      <th>free sulfur dioxide</th>\n",
       "      <th>total sulfur dioxide</th>\n",
       "      <th>density</th>\n",
       "      <th>pH</th>\n",
       "      <th>sulphates</th>\n",
       "      <th>alcohol</th>\n",
       "      <th>quality</th>\n",
       "    </tr>\n",
       "  </thead>\n",
       "  <tbody>\n",
       "    <tr>\n",
       "      <th>0</th>\n",
       "      <td>7.4</td>\n",
       "      <td>0.700</td>\n",
       "      <td>0.00</td>\n",
       "      <td>1.9</td>\n",
       "      <td>0.076</td>\n",
       "      <td>11.0</td>\n",
       "      <td>34.0</td>\n",
       "      <td>0.99780</td>\n",
       "      <td>3.51</td>\n",
       "      <td>0.56</td>\n",
       "      <td>9.4</td>\n",
       "      <td>5</td>\n",
       "    </tr>\n",
       "    <tr>\n",
       "      <th>1</th>\n",
       "      <td>7.8</td>\n",
       "      <td>0.880</td>\n",
       "      <td>0.00</td>\n",
       "      <td>2.6</td>\n",
       "      <td>0.098</td>\n",
       "      <td>25.0</td>\n",
       "      <td>67.0</td>\n",
       "      <td>0.99680</td>\n",
       "      <td>3.20</td>\n",
       "      <td>0.68</td>\n",
       "      <td>9.8</td>\n",
       "      <td>5</td>\n",
       "    </tr>\n",
       "    <tr>\n",
       "      <th>2</th>\n",
       "      <td>7.8</td>\n",
       "      <td>0.760</td>\n",
       "      <td>0.04</td>\n",
       "      <td>2.3</td>\n",
       "      <td>0.092</td>\n",
       "      <td>15.0</td>\n",
       "      <td>54.0</td>\n",
       "      <td>0.99700</td>\n",
       "      <td>3.26</td>\n",
       "      <td>0.65</td>\n",
       "      <td>9.8</td>\n",
       "      <td>5</td>\n",
       "    </tr>\n",
       "    <tr>\n",
       "      <th>3</th>\n",
       "      <td>11.2</td>\n",
       "      <td>0.280</td>\n",
       "      <td>0.56</td>\n",
       "      <td>1.9</td>\n",
       "      <td>0.075</td>\n",
       "      <td>17.0</td>\n",
       "      <td>60.0</td>\n",
       "      <td>0.99800</td>\n",
       "      <td>3.16</td>\n",
       "      <td>0.58</td>\n",
       "      <td>9.8</td>\n",
       "      <td>6</td>\n",
       "    </tr>\n",
       "    <tr>\n",
       "      <th>4</th>\n",
       "      <td>7.4</td>\n",
       "      <td>0.700</td>\n",
       "      <td>0.00</td>\n",
       "      <td>1.9</td>\n",
       "      <td>0.076</td>\n",
       "      <td>11.0</td>\n",
       "      <td>34.0</td>\n",
       "      <td>0.99780</td>\n",
       "      <td>3.51</td>\n",
       "      <td>0.56</td>\n",
       "      <td>9.4</td>\n",
       "      <td>5</td>\n",
       "    </tr>\n",
       "    <tr>\n",
       "      <th>...</th>\n",
       "      <td>...</td>\n",
       "      <td>...</td>\n",
       "      <td>...</td>\n",
       "      <td>...</td>\n",
       "      <td>...</td>\n",
       "      <td>...</td>\n",
       "      <td>...</td>\n",
       "      <td>...</td>\n",
       "      <td>...</td>\n",
       "      <td>...</td>\n",
       "      <td>...</td>\n",
       "      <td>...</td>\n",
       "    </tr>\n",
       "    <tr>\n",
       "      <th>1594</th>\n",
       "      <td>6.2</td>\n",
       "      <td>0.600</td>\n",
       "      <td>0.08</td>\n",
       "      <td>2.0</td>\n",
       "      <td>0.090</td>\n",
       "      <td>32.0</td>\n",
       "      <td>44.0</td>\n",
       "      <td>0.99490</td>\n",
       "      <td>3.45</td>\n",
       "      <td>0.58</td>\n",
       "      <td>10.5</td>\n",
       "      <td>5</td>\n",
       "    </tr>\n",
       "    <tr>\n",
       "      <th>1595</th>\n",
       "      <td>5.9</td>\n",
       "      <td>0.550</td>\n",
       "      <td>0.10</td>\n",
       "      <td>2.2</td>\n",
       "      <td>0.062</td>\n",
       "      <td>39.0</td>\n",
       "      <td>51.0</td>\n",
       "      <td>0.99512</td>\n",
       "      <td>3.52</td>\n",
       "      <td>0.76</td>\n",
       "      <td>11.2</td>\n",
       "      <td>6</td>\n",
       "    </tr>\n",
       "    <tr>\n",
       "      <th>1596</th>\n",
       "      <td>6.3</td>\n",
       "      <td>0.510</td>\n",
       "      <td>0.13</td>\n",
       "      <td>2.3</td>\n",
       "      <td>0.076</td>\n",
       "      <td>29.0</td>\n",
       "      <td>40.0</td>\n",
       "      <td>0.99574</td>\n",
       "      <td>3.42</td>\n",
       "      <td>0.75</td>\n",
       "      <td>11.0</td>\n",
       "      <td>6</td>\n",
       "    </tr>\n",
       "    <tr>\n",
       "      <th>1597</th>\n",
       "      <td>5.9</td>\n",
       "      <td>0.645</td>\n",
       "      <td>0.12</td>\n",
       "      <td>2.0</td>\n",
       "      <td>0.075</td>\n",
       "      <td>32.0</td>\n",
       "      <td>44.0</td>\n",
       "      <td>0.99547</td>\n",
       "      <td>3.57</td>\n",
       "      <td>0.71</td>\n",
       "      <td>10.2</td>\n",
       "      <td>5</td>\n",
       "    </tr>\n",
       "    <tr>\n",
       "      <th>1598</th>\n",
       "      <td>6.0</td>\n",
       "      <td>0.310</td>\n",
       "      <td>0.47</td>\n",
       "      <td>3.6</td>\n",
       "      <td>0.067</td>\n",
       "      <td>18.0</td>\n",
       "      <td>42.0</td>\n",
       "      <td>0.99549</td>\n",
       "      <td>3.39</td>\n",
       "      <td>0.66</td>\n",
       "      <td>11.0</td>\n",
       "      <td>6</td>\n",
       "    </tr>\n",
       "  </tbody>\n",
       "</table>\n",
       "<p>1586 rows × 12 columns</p>\n",
       "</div>"
      ],
      "text/plain": [
       "      fixed acidity  volatile acidity  citric acid  residual sugar  chlorides  \\\n",
       "0               7.4             0.700         0.00             1.9      0.076   \n",
       "1               7.8             0.880         0.00             2.6      0.098   \n",
       "2               7.8             0.760         0.04             2.3      0.092   \n",
       "3              11.2             0.280         0.56             1.9      0.075   \n",
       "4               7.4             0.700         0.00             1.9      0.076   \n",
       "...             ...               ...          ...             ...        ...   \n",
       "1594            6.2             0.600         0.08             2.0      0.090   \n",
       "1595            5.9             0.550         0.10             2.2      0.062   \n",
       "1596            6.3             0.510         0.13             2.3      0.076   \n",
       "1597            5.9             0.645         0.12             2.0      0.075   \n",
       "1598            6.0             0.310         0.47             3.6      0.067   \n",
       "\n",
       "      free sulfur dioxide  total sulfur dioxide  density    pH  sulphates  \\\n",
       "0                    11.0                  34.0  0.99780  3.51       0.56   \n",
       "1                    25.0                  67.0  0.99680  3.20       0.68   \n",
       "2                    15.0                  54.0  0.99700  3.26       0.65   \n",
       "3                    17.0                  60.0  0.99800  3.16       0.58   \n",
       "4                    11.0                  34.0  0.99780  3.51       0.56   \n",
       "...                   ...                   ...      ...   ...        ...   \n",
       "1594                 32.0                  44.0  0.99490  3.45       0.58   \n",
       "1595                 39.0                  51.0  0.99512  3.52       0.76   \n",
       "1596                 29.0                  40.0  0.99574  3.42       0.75   \n",
       "1597                 32.0                  44.0  0.99547  3.57       0.71   \n",
       "1598                 18.0                  42.0  0.99549  3.39       0.66   \n",
       "\n",
       "      alcohol  quality  \n",
       "0         9.4        5  \n",
       "1         9.8        5  \n",
       "2         9.8        5  \n",
       "3         9.8        6  \n",
       "4         9.4        5  \n",
       "...       ...      ...  \n",
       "1594     10.5        5  \n",
       "1595     11.2        6  \n",
       "1596     11.0        6  \n",
       "1597     10.2        5  \n",
       "1598     11.0        6  \n",
       "\n",
       "[1586 rows x 12 columns]"
      ]
     },
     "execution_count": 124,
     "metadata": {},
     "output_type": "execute_result"
    }
   ],
   "source": [
    "red_wine_df_no_outliers_alcool"
   ]
  },
  {
   "cell_type": "code",
   "execution_count": 125,
   "id": "7301a59d",
   "metadata": {},
   "outputs": [
    {
     "data": {
      "image/png": "[encoded data removed]",
      "text/plain": [
       "<Figure size 640x480 with 1 Axes>"
      ]
     },
     "metadata": {},
     "output_type": "display_data"
    }
   ],
   "source": [
    "sns.boxplot(data=red_wine_df_no_outliers_alcool['alcohol'], orient='h')\n",
    "plt.xlabel('Álcool')\n",
    "plt.show()"
   ]
  },
  {
   "cell_type": "code",
   "execution_count": null,
   "id": "33d80c7f-ffe4-4bb9-b9b4-fef03a0edd22",
   "metadata": {},
   "outputs": [],
   "source": []
  },
  {
   "cell_type": "markdown",
   "id": "65181906-4662-4496-a9af-7e4edf6eaae9",
   "metadata": {},
   "source": [
    "# Teste de hipótese"
   ]
  },
  {
   "cell_type": "code",
   "execution_count": 126,
   "id": "490ea220-b4f8-443f-a304-d29df41dae14",
   "metadata": {},
   "outputs": [],
   "source": [
    "from scipy.stats import normaltest"
   ]
  },
  {
   "cell_type": "code",
   "execution_count": 127,
   "id": "e1645a23-01f3-48a3-9345-eb8cd4fcf603",
   "metadata": {},
   "outputs": [
    {
     "data": {
      "image/png": "[encoded data removed]",
      "text/plain": [
       "<Figure size 640x480 with 1 Axes>"
      ]
     },
     "metadata": {},
     "output_type": "display_data"
    }
   ],
   "source": [
    "sns.histplot(red_wine_df['alcohol'], kde=True, bins=50, stat ='percent')\n",
    "plt.ylabel('Densidade')\n",
    "plt.show()"
   ]
  },
  {
   "cell_type": "code",
   "execution_count": 128,
   "id": "f4f7f0d8-80d9-48fb-b924-fab5ce39a6d0",
   "metadata": {},
   "outputs": [
    {
     "data": {
      "text/plain": [
       "NormaltestResult(statistic=154.17806951912516, pvalue=3.3163288473185488e-34)"
      ]
     },
     "execution_count": 128,
     "metadata": {},
     "output_type": "execute_result"
    }
   ],
   "source": [
    "normaltest(red_wine_df['alcohol'])"
   ]
  },
  {
   "cell_type": "code",
   "execution_count": 129,
   "id": "8e191bea-ef3c-45b7-927f-214864c0235b",
   "metadata": {},
   "outputs": [],
   "source": [
    "media = 0\n",
    "desvio_padrao = 0.1\n",
    "s = np.random.normal(media, desvio_padrao, 1000)"
   ]
  },
  {
   "cell_type": "code",
   "execution_count": 130,
   "id": "404c7167-4139-42ee-b97c-624132d5572b",
   "metadata": {},
   "outputs": [
    {
     "data": {
      "text/plain": [
       "NormaltestResult(statistic=0.409222249288819, pvalue=0.8149641742813802)"
      ]
     },
     "execution_count": 130,
     "metadata": {},
     "output_type": "execute_result"
    }
   ],
   "source": [
    "normaltest(s)"
   ]
  },
  {
   "cell_type": "code",
   "execution_count": 131,
   "id": "60197033-43f0-4d50-96a9-f308e00b458b",
   "metadata": {},
   "outputs": [
    {
     "data": {
      "image/png": "[encoded data removed]",
      "text/plain": [
       "<Figure size 640x480 with 1 Axes>"
      ]
     },
     "metadata": {},
     "output_type": "display_data"
    }
   ],
   "source": [
    "sns.histplot(s, kde=True, bins=50, stat ='percent')\n",
    "plt.ylabel('Densidade')\n",
    "plt.show()"
   ]
  },
  {
   "cell_type": "code",
   "execution_count": null,
   "id": "e63e12a5-3e39-46af-bc58-e60f80e795f4",
   "metadata": {},
   "outputs": [],
   "source": []
  }
 ],
 "metadata": {
  "kernelspec": {
   "display_name": "Python 3 (ipykernel)",
   "language": "python",
   "name": "python3"
  },
  "language_info": {
   "codemirror_mode": {
    "name": "ipython",
    "version": 3
   },
   "file_extension": ".py",
   "mimetype": "text/x-python",
   "name": "python",
   "nbconvert_exporter": "python",
   "pygments_lexer": "ipython3",
   "version": "3.10.11"
  }
 },
 "nbformat": 4,
 "nbformat_minor": 5
}
